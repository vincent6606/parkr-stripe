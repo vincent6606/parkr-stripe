{
 "cells": [
  {
   "cell_type": "code",
   "execution_count": 1,
   "metadata": {
    "collapsed": false
   },
   "outputs": [
    {
     "name": "stdout",
     "output_type": "stream",
     "text": [
      "Collecting stripe\n",
      "  Downloading stripe-1.59.0-py2-none-any.whl (207kB)\n",
      "Requirement already satisfied (use --upgrade to upgrade): requests>=0.8.8 in c:\\anaconda2\\lib\\site-packages (from stripe)\n",
      "Installing collected packages: stripe\n",
      "Successfully installed stripe-1.59.0\n"
     ]
    },
    {
     "name": "stderr",
     "output_type": "stream",
     "text": [
      "You are using pip version 8.1.2, however version 9.0.1 is available.\n",
      "You should consider upgrading via the 'python -m pip install --upgrade pip' command.\n"
     ]
    }
   ],
   "source": [
    "!pip install stripe"
   ]
  },
  {
   "cell_type": "code",
   "execution_count": 3,
   "metadata": {
    "collapsed": true
   },
   "outputs": [],
   "source": [
    "import stripe\n",
    "import requests"
   ]
  },
  {
   "cell_type": "code",
   "execution_count": 8,
   "metadata": {
    "collapsed": false,
    "scrolled": false
   },
   "outputs": [],
   "source": [
    "\n",
    "stripe.api_key = \"sk_test_iiQXjhYUnqmwfhpGvgfq6hp4\"\n",
    "\n",
    "acct = stripe.Account.create(\n",
    "  country=\"US\",\n",
    "  type=\"standard\",\n",
    "    email=\"zhiting6606@live.com\"\n",
    "    \n",
    "    \n",
    ")"
   ]
  },
  {
   "cell_type": "code",
   "execution_count": 10,
   "metadata": {
    "collapsed": false
   },
   "outputs": [
    {
     "data": {
      "text/plain": [
       "u'acct_1AVpvMJI2pEHCZxA'"
      ]
     },
     "execution_count": 10,
     "metadata": {},
     "output_type": "execute_result"
    }
   ],
   "source": [
    "acct.id"
   ]
  },
  {
   "cell_type": "code",
   "execution_count": 18,
   "metadata": {
    "collapsed": false
   },
   "outputs": [],
   "source": [
    "charge = stripe.Charge.create(\n",
    "  amount=1000,\n",
    "  currency=\"usd\",\n",
    "  source=\"tok_visa\",\n",
    "    stripe_account=acct.id,\n",
    "    application_fee=123,\n",
    "    capture = \"false\"\n",
    "    \n",
    ")"
   ]
  },
  {
   "cell_type": "code",
   "execution_count": 19,
   "metadata": {
    "collapsed": false
   },
   "outputs": [
    {
     "data": {
      "text/plain": [
       "<Charge charge id=ch_1AVq4vJI2pEHCZxAZRevrKFT at 0x3f523a8L> JSON: {\n",
       "  \"amount\": 1000, \n",
       "  \"amount_refunded\": 0, \n",
       "  \"application\": \"ca_ArRjfLym0fqbPtSOGTYYgMNH1i3Qg4Ab\", \n",
       "  \"application_fee\": null, \n",
       "  \"balance_transaction\": null, \n",
       "  \"captured\": false, \n",
       "  \"created\": 1497741101, \n",
       "  \"currency\": \"usd\", \n",
       "  \"customer\": null, \n",
       "  \"description\": null, \n",
       "  \"destination\": null, \n",
       "  \"dispute\": null, \n",
       "  \"failure_code\": null, \n",
       "  \"failure_message\": null, \n",
       "  \"fraud_details\": {}, \n",
       "  \"id\": \"ch_1AVq4vJI2pEHCZxAZRevrKFT\", \n",
       "  \"invoice\": null, \n",
       "  \"livemode\": false, \n",
       "  \"metadata\": {}, \n",
       "  \"object\": \"charge\", \n",
       "  \"on_behalf_of\": null, \n",
       "  \"order\": null, \n",
       "  \"outcome\": {\n",
       "    \"network_status\": \"approved_by_network\", \n",
       "    \"reason\": null, \n",
       "    \"risk_level\": \"normal\", \n",
       "    \"seller_message\": \"Payment complete.\", \n",
       "    \"type\": \"authorized\"\n",
       "  }, \n",
       "  \"paid\": true, \n",
       "  \"receipt_email\": null, \n",
       "  \"receipt_number\": null, \n",
       "  \"refunded\": false, \n",
       "  \"refunds\": {\n",
       "    \"data\": [], \n",
       "    \"has_more\": false, \n",
       "    \"object\": \"list\", \n",
       "    \"total_count\": 0, \n",
       "    \"url\": \"/v1/charges/ch_1AVq4vJI2pEHCZxAZRevrKFT/refunds\"\n",
       "  }, \n",
       "  \"review\": null, \n",
       "  \"shipping\": null, \n",
       "  \"source\": {\n",
       "    \"address_city\": null, \n",
       "    \"address_country\": null, \n",
       "    \"address_line1\": null, \n",
       "    \"address_line1_check\": null, \n",
       "    \"address_line2\": null, \n",
       "    \"address_state\": null, \n",
       "    \"address_zip\": null, \n",
       "    \"address_zip_check\": null, \n",
       "    \"brand\": \"Visa\", \n",
       "    \"country\": \"US\", \n",
       "    \"customer\": null, \n",
       "    \"cvc_check\": null, \n",
       "    \"dynamic_last4\": null, \n",
       "    \"exp_month\": 8, \n",
       "    \"exp_year\": 2019, \n",
       "    \"fingerprint\": \"8M5YHgitCtyiBirS\", \n",
       "    \"funding\": \"credit\", \n",
       "    \"id\": \"card_1AVq4vJI2pEHCZxASGSopNqz\", \n",
       "    \"last4\": \"4242\", \n",
       "    \"metadata\": {}, \n",
       "    \"name\": null, \n",
       "    \"object\": \"card\", \n",
       "    \"tokenization_method\": null\n",
       "  }, \n",
       "  \"source_transfer\": null, \n",
       "  \"statement_descriptor\": null, \n",
       "  \"status\": \"succeeded\", \n",
       "  \"transfer_group\": null\n",
       "}"
      ]
     },
     "execution_count": 19,
     "metadata": {},
     "output_type": "execute_result"
    }
   ],
   "source": [
    "charge"
   ]
  },
  {
   "cell_type": "code",
   "execution_count": null,
   "metadata": {
    "collapsed": true
   },
   "outputs": [],
   "source": [
    "ca_ArRjfLym0fqbPtSOGTYYgMNH1i3Qg4Ab"
   ]
  },
  {
   "cell_type": "code",
   "execution_count": 2,
   "metadata": {
    "collapsed": false
   },
   "outputs": [
    {
     "ename": "SyntaxError",
     "evalue": "invalid syntax (<ipython-input-2-ae031cd24cc5>, line 1)",
     "output_type": "error",
     "traceback": [
      "\u001b[1;36m  File \u001b[1;32m\"<ipython-input-2-ae031cd24cc5>\"\u001b[1;36m, line \u001b[1;32m1\u001b[0m\n\u001b[1;33m    https://connect.stripe.com/oauth/authorize?response_type=code&client_id=ca_ArRjfLym0fqbPtSOGTYYgMNH1i3Qg4Ab&scope=read_write\u001b[0m\n\u001b[1;37m         ^\u001b[0m\n\u001b[1;31mSyntaxError\u001b[0m\u001b[1;31m:\u001b[0m invalid syntax\n"
     ]
    }
   ],
   "source": [
    "https://connect.stripe.com/oauth/authorize?response_type=code&client_id=ca_ArRjfLym0fqbPtSOGTYYgMNH1i3Qg4Ab&scope=read_write"
   ]
  },
  {
   "cell_type": "code",
   "execution_count": null,
   "metadata": {
    "collapsed": true
   },
   "outputs": [],
   "source": [
    "#Useful links\n",
    "#https://stripe.com/docs/connect/standard-accounts\n",
    "\n",
    "\n",
    "#https://stripe.com/docs/connect/sample-oauth-apps\n",
    "\n"
   ]
  },
  {
   "cell_type": "markdown",
   "metadata": {},
   "source": [
    "### Test Secret API key is found at https://stripe.com/docs/api#authentication when logged on to parkr"
   ]
  },
  {
   "cell_type": "code",
   "execution_count": 83,
   "metadata": {
    "collapsed": true
   },
   "outputs": [],
   "source": [
    "#Get a code associated with the customer's stripe account by making a get request\n",
    "#The response will include a 'code' used to authenticate parkr "
   ]
  },
  {
   "cell_type": "code",
   "execution_count": 78,
   "metadata": {
    "collapsed": false
   },
   "outputs": [],
   "source": [
    "import requests\n",
    "#create a post request after user has already sign up with redirect link\n",
    "data = [\n",
    "  ('client_secret', 'sk_test_lzKZJyFzGwbDDV89AMAx7jVs'),\n",
    "  ('code', 'ac_ArpRXM3yOauzjoZB97vzMxfc4hmbDNFx'),\n",
    "  ('grant_type', \"authorization_code\"),\n",
    "]\n",
    "\n",
    "#Code is used to identify the customer\n",
    "\n",
    "resp = requests.post('https://connect.stripe.com/oauth/token', data=data)\n"
   ]
  },
  {
   "cell_type": "code",
   "execution_count": 79,
   "metadata": {
    "collapsed": false
   },
   "outputs": [
    {
     "data": {
      "text/plain": [
       "<Response [200]>"
      ]
     },
     "execution_count": 79,
     "metadata": {},
     "output_type": "execute_result"
    }
   ],
   "source": [
    "resp"
   ]
  },
  {
   "cell_type": "code",
   "execution_count": 80,
   "metadata": {
    "collapsed": false
   },
   "outputs": [
    {
     "data": {
      "text/plain": [
       "{u'access_token': u'sk_test_T9WFRs3xzbI0sjiHfTY4jNC0',\n",
       " u'livemode': False,\n",
       " u'refresh_token': u'rt_ArpR9If2BLpM80df6Cuivj5ewKQhl7wQTXBAdh1SkOSGMsgd',\n",
       " u'scope': u'read_write',\n",
       " u'stripe_publishable_key': u'pk_test_yjn7dplod9W5fI41DzcCVMw7',\n",
       " u'stripe_user_id': u'acct_1AVioxGbnkSfqivl',\n",
       " u'token_type': u'bearer'}"
      ]
     },
     "execution_count": 80,
     "metadata": {},
     "output_type": "execute_result"
    }
   ],
   "source": [
    "#Response after a successful authorization\n",
    "\n",
    "#acess_token is used to charge or pay user money\n",
    "resp.json()"
   ]
  },
  {
   "cell_type": "markdown",
   "metadata": {},
   "source": [
    "### A successful response would be\n"
   ]
  },
  {
   "cell_type": "code",
   "execution_count": 82,
   "metadata": {
    "collapsed": false
   },
   "outputs": [
    {
     "data": {
      "text/plain": [
       "{u'access_token': u'sk_test_T9WFRs3xzbI0sjiHfTY4jNC0',\n",
       " u'livemode': False,\n",
       " u'refresh_token': u'rt_ArpR9If2BLpM80df6Cuivj5ewKQhl7wQTXBAdh1SkOSGMsgd',\n",
       " u'scope': u'read_write',\n",
       " u'stripe_publishable_key': u'pk_test_yjn7dplod9W5fI41DzcCVMw7',\n",
       " u'stripe_user_id': u'acct_1AVioxGbnkSfqivl',\n",
       " u'token_type': u'bearer'}"
      ]
     },
     "execution_count": 82,
     "metadata": {},
     "output_type": "execute_result"
    }
   ],
   "source": [
    "{u'access_token': u'sk_test_T9WFRs3xzbI0sjiHfTY4jNC0',\n",
    " u'livemode': False,\n",
    " u'refresh_token': u'rt_ArpR9If2BLpM80df6Cuivj5ewKQhl7wQTXBAdh1SkOSGMsgd',\n",
    " u'scope': u'read_write',\n",
    " u'stripe_publishable_key': u'pk_test_yjn7dplod9W5fI41DzcCVMw7',\n",
    " u'stripe_user_id': u'acct_1AVioxGbnkSfqivl',\n",
    " u'token_type': u'bearer'}"
   ]
  },
  {
   "cell_type": "code",
   "execution_count": null,
   "metadata": {
    "collapsed": true
   },
   "outputs": [],
   "source": []
  },
  {
   "cell_type": "code",
   "execution_count": null,
   "metadata": {
    "collapsed": true
   },
   "outputs": [],
   "source": []
  }
 ],
 "metadata": {
  "anaconda-cloud": {},
  "kernelspec": {
   "display_name": "Python [Root]",
   "language": "python",
   "name": "Python [Root]"
  },
  "language_info": {
   "codemirror_mode": {
    "name": "ipython",
    "version": 2
   },
   "file_extension": ".py",
   "mimetype": "text/x-python",
   "name": "python",
   "nbconvert_exporter": "python",
   "pygments_lexer": "ipython2",
   "version": "2.7.12"
  }
 },
 "nbformat": 4,
 "nbformat_minor": 0
}
