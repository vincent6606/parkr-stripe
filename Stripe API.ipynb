{
 "cells": [
  {
   "cell_type": "code",
   "execution_count": 1,
   "metadata": {
    "collapsed": false
   },
   "outputs": [
    {
     "name": "stdout",
     "output_type": "stream",
     "text": [
      "Collecting stripe\n",
      "  Downloading stripe-1.59.0-py2-none-any.whl (207kB)\n",
      "Requirement already satisfied (use --upgrade to upgrade): requests>=0.8.8 in c:\\anaconda2\\lib\\site-packages (from stripe)\n",
      "Installing collected packages: stripe\n",
      "Successfully installed stripe-1.59.0\n"
     ]
    },
    {
     "name": "stderr",
     "output_type": "stream",
     "text": [
      "You are using pip version 8.1.2, however version 9.0.1 is available.\n",
      "You should consider upgrading via the 'python -m pip install --upgrade pip' command.\n"
     ]
    }
   ],
   "source": [
    "!pip install stripe"
   ]
  },
  {
   "cell_type": "code",
   "execution_count": 2,
   "metadata": {
    "collapsed": true
   },
   "outputs": [],
   "source": [
    "import stripe\n",
    "import requests"
   ]
  },
  {
   "cell_type": "code",
   "execution_count": 8,
   "metadata": {
    "collapsed": false,
    "scrolled": false
   },
   "outputs": [],
   "source": [
    "\n",
    "stripe.api_key = \"sk_test_iiQXjhYUnqmwfhpGvgfq6hp4\"\n",
    "\n",
    "acct = stripe.Account.create(\n",
    "  country=\"US\",\n",
    "  type=\"standard\",\n",
    "    email=\"zhiting6606@live.com\"\n",
    "    \n",
    "    \n",
    ")"
   ]
  },
  {
   "cell_type": "code",
   "execution_count": 10,
   "metadata": {
    "collapsed": false
   },
   "outputs": [
    {
     "data": {
      "text/plain": [
       "u'acct_1AVpvMJI2pEHCZxA'"
      ]
     },
     "execution_count": 10,
     "metadata": {},
     "output_type": "execute_result"
    }
   ],
   "source": [
    "acct.id"
   ]
  },
  {
   "cell_type": "code",
   "execution_count": 18,
   "metadata": {
    "collapsed": false
   },
   "outputs": [],
   "source": [
    "charge = stripe.Charge.create(\n",
    "  amount=1000,\n",
    "  currency=\"usd\",\n",
    "  source=\"tok_visa\",\n",
    "    stripe_account=acct.id,\n",
    "    application_fee=123,\n",
    "    capture = \"false\"\n",
    "    \n",
    ")"
   ]
  },
  {
   "cell_type": "code",
   "execution_count": 27,
   "metadata": {
    "collapsed": false
   },
   "outputs": [
    {
     "data": {
      "text/plain": [
       "False"
      ]
     },
     "execution_count": 27,
     "metadata": {},
     "output_type": "execute_result"
    }
   ],
   "source": [
    "charge.captured"
   ]
  },
  {
   "cell_type": "code",
   "execution_count": null,
   "metadata": {
    "collapsed": true
   },
   "outputs": [],
   "source": [
    "ca_ArRjfLym0fqbPtSOGTYYgMNH1i3Qg4Ab"
   ]
  },
  {
   "cell_type": "code",
   "execution_count": 2,
   "metadata": {
    "collapsed": false
   },
   "outputs": [
    {
     "ename": "SyntaxError",
     "evalue": "invalid syntax (<ipython-input-2-ae031cd24cc5>, line 1)",
     "output_type": "error",
     "traceback": [
      "\u001b[1;36m  File \u001b[1;32m\"<ipython-input-2-ae031cd24cc5>\"\u001b[1;36m, line \u001b[1;32m1\u001b[0m\n\u001b[1;33m    https://connect.stripe.com/oauth/authorize?response_type=code&client_id=ca_ArRjfLym0fqbPtSOGTYYgMNH1i3Qg4Ab&scope=read_write\u001b[0m\n\u001b[1;37m         ^\u001b[0m\n\u001b[1;31mSyntaxError\u001b[0m\u001b[1;31m:\u001b[0m invalid syntax\n"
     ]
    }
   ],
   "source": [
    "https://connect.stripe.com/oauth/authorize?response_type=code&client_id=ca_ArRjfLym0fqbPtSOGTYYgMNH1i3Qg4Ab&scope=read_write"
   ]
  },
  {
   "cell_type": "code",
   "execution_count": null,
   "metadata": {
    "collapsed": true
   },
   "outputs": [],
   "source": [
    "#Useful links\n",
    "#https://stripe.com/docs/connect/standard-accounts\n",
    "\n",
    "\n",
    "#https://stripe.com/docs/connect/sample-oauth-apps\n",
    "\n"
   ]
  },
  {
   "cell_type": "markdown",
   "metadata": {},
   "source": [
    "### Test Secret API key is found at https://stripe.com/docs/api#authentication when logged on to parkr"
   ]
  },
  {
   "cell_type": "code",
   "execution_count": 83,
   "metadata": {
    "collapsed": true
   },
   "outputs": [],
   "source": [
    "#Get a code associated with the customer's stripe account by making a get request\n",
    "#The response will include a 'code' used to authenticate parkr "
   ]
  },
  {
   "cell_type": "code",
   "execution_count": 78,
   "metadata": {
    "collapsed": false
   },
   "outputs": [],
   "source": [
    "import requests\n",
    "#create a post request after user has already sign up with redirect link\n",
    "data = [\n",
    "  ('client_secret', 'sk_test_lzKZJyFzGwbDDV89AMAx7jVs'),\n",
    "  ('code', 'ac_ArpRXM3yOauzjoZB97vzMxfc4hmbDNFx'),\n",
    "  ('grant_type', \"authorization_code\"),\n",
    "]\n",
    "\n",
    "#Code is used to identify the customer\n",
    "\n",
    "resp = requests.post('https://connect.stripe.com/oauth/token', data=data)\n"
   ]
  },
  {
   "cell_type": "code",
   "execution_count": 79,
   "metadata": {
    "collapsed": false
   },
   "outputs": [
    {
     "data": {
      "text/plain": [
       "<Response [200]>"
      ]
     },
     "execution_count": 79,
     "metadata": {},
     "output_type": "execute_result"
    }
   ],
   "source": [
    "resp"
   ]
  },
  {
   "cell_type": "code",
   "execution_count": 80,
   "metadata": {
    "collapsed": false
   },
   "outputs": [
    {
     "data": {
      "text/plain": [
       "{u'access_token': u'sk_test_T9WFRs3xzbI0sjiHfTY4jNC0',\n",
       " u'livemode': False,\n",
       " u'refresh_token': u'rt_ArpR9If2BLpM80df6Cuivj5ewKQhl7wQTXBAdh1SkOSGMsgd',\n",
       " u'scope': u'read_write',\n",
       " u'stripe_publishable_key': u'pk_test_yjn7dplod9W5fI41DzcCVMw7',\n",
       " u'stripe_user_id': u'acct_1AVioxGbnkSfqivl',\n",
       " u'token_type': u'bearer'}"
      ]
     },
     "execution_count": 80,
     "metadata": {},
     "output_type": "execute_result"
    }
   ],
   "source": [
    "#Response after a successful authorization\n",
    "\n",
    "#acess_token is used to charge or pay user money\n",
    "resp.json()"
   ]
  },
  {
   "cell_type": "markdown",
   "metadata": {},
   "source": [
    "### A successful response would be\n"
   ]
  },
  {
   "cell_type": "code",
   "execution_count": 82,
   "metadata": {
    "collapsed": false
   },
   "outputs": [
    {
     "data": {
      "text/plain": [
       "{u'access_token': u'sk_test_T9WFRs3xzbI0sjiHfTY4jNC0',\n",
       " u'livemode': False,\n",
       " u'refresh_token': u'rt_ArpR9If2BLpM80df6Cuivj5ewKQhl7wQTXBAdh1SkOSGMsgd',\n",
       " u'scope': u'read_write',\n",
       " u'stripe_publishable_key': u'pk_test_yjn7dplod9W5fI41DzcCVMw7',\n",
       " u'stripe_user_id': u'acct_1AVioxGbnkSfqivl',\n",
       " u'token_type': u'bearer'}"
      ]
     },
     "execution_count": 82,
     "metadata": {},
     "output_type": "execute_result"
    }
   ],
   "source": [
    "{u'access_token': u'sk_test_T9WFRs3xzbI0sjiHfTY4jNC0',\n",
    " u'livemode': False,\n",
    " u'refresh_token': u'rt_ArpR9If2BLpM80df6Cuivj5ewKQhl7wQTXBAdh1SkOSGMsgd',\n",
    " u'scope': u'read_write',\n",
    " u'stripe_publishable_key': u'pk_test_yjn7dplod9W5fI41DzcCVMw7',\n",
    " u'stripe_user_id': u'acct_1AVioxGbnkSfqivl',\n",
    " u'token_type': u'bearer'}"
   ]
  },
  {
   "cell_type": "code",
   "execution_count": 53,
   "metadata": {
    "collapsed": false
   },
   "outputs": [],
   "source": [
    "stripe.api_key = \"sk_test_lzKZJyFzGwbDDV89AMAx7jVs\"\n",
    "cust1 = stripe.Customer.create(\n",
    "  email=\"person@example.edu\",\n",
    "  stripe_account=\"acct_1AVioxGbnkSfqivl\",\n",
    "    source = \"tok_visa\",\n",
    ")\n"
   ]
  },
  {
   "cell_type": "code",
   "execution_count": 54,
   "metadata": {
    "collapsed": false
   },
   "outputs": [
    {
     "data": {
      "text/plain": [
       "<Customer customer id=cus_Arv8ut4gOsBX5k at 0x4125dc8L> JSON: {\n",
       "  \"account_balance\": 0, \n",
       "  \"created\": 1497822639, \n",
       "  \"currency\": null, \n",
       "  \"default_source\": \"card_1AWBI3GbnkSfqivlZnTGkL7w\", \n",
       "  \"delinquent\": false, \n",
       "  \"description\": null, \n",
       "  \"discount\": null, \n",
       "  \"email\": \"person@example.edu\", \n",
       "  \"id\": \"cus_Arv8ut4gOsBX5k\", \n",
       "  \"livemode\": false, \n",
       "  \"metadata\": {}, \n",
       "  \"object\": \"customer\", \n",
       "  \"shipping\": null, \n",
       "  \"sources\": {\n",
       "    \"data\": [\n",
       "      {\n",
       "        \"address_city\": null, \n",
       "        \"address_country\": null, \n",
       "        \"address_line1\": null, \n",
       "        \"address_line1_check\": null, \n",
       "        \"address_line2\": null, \n",
       "        \"address_state\": null, \n",
       "        \"address_zip\": null, \n",
       "        \"address_zip_check\": null, \n",
       "        \"brand\": \"Visa\", \n",
       "        \"country\": \"US\", \n",
       "        \"customer\": \"cus_Arv8ut4gOsBX5k\", \n",
       "        \"cvc_check\": null, \n",
       "        \"dynamic_last4\": null, \n",
       "        \"exp_month\": 8, \n",
       "        \"exp_year\": 2019, \n",
       "        \"fingerprint\": \"NVRSN9epx5wuFVlz\", \n",
       "        \"funding\": \"credit\", \n",
       "        \"id\": \"card_1AWBI3GbnkSfqivlZnTGkL7w\", \n",
       "        \"last4\": \"4242\", \n",
       "        \"metadata\": {}, \n",
       "        \"name\": null, \n",
       "        \"object\": \"card\", \n",
       "        \"tokenization_method\": null\n",
       "      }\n",
       "    ], \n",
       "    \"has_more\": false, \n",
       "    \"object\": \"list\", \n",
       "    \"total_count\": 1, \n",
       "    \"url\": \"/v1/customers/cus_Arv8ut4gOsBX5k/sources\"\n",
       "  }, \n",
       "  \"subscriptions\": {\n",
       "    \"data\": [], \n",
       "    \"has_more\": false, \n",
       "    \"object\": \"list\", \n",
       "    \"total_count\": 0, \n",
       "    \"url\": \"/v1/customers/cus_Arv8ut4gOsBX5k/subscriptions\"\n",
       "  }\n",
       "}"
      ]
     },
     "execution_count": 54,
     "metadata": {},
     "output_type": "execute_result"
    }
   ],
   "source": [
    "cust1"
   ]
  },
  {
   "cell_type": "code",
   "execution_count": 70,
   "metadata": {
    "collapsed": false
   },
   "outputs": [
    {
     "data": {
      "text/plain": [
       "<Account account id=acct_1AVioxGbnkSfqivl at 0x4090ee8L> JSON: {\n",
       "  \"business_logo\": null, \n",
       "  \"business_name\": null, \n",
       "  \"business_url\": \"google.com\", \n",
       "  \"charges_enabled\": true, \n",
       "  \"country\": \"CA\", \n",
       "  \"default_currency\": \"cad\", \n",
       "  \"details_submitted\": true, \n",
       "  \"display_name\": \"Google\", \n",
       "  \"email\": \"vincent6606czt@gmail.com\", \n",
       "  \"id\": \"acct_1AVioxGbnkSfqivl\", \n",
       "  \"metadata\": {}, \n",
       "  \"object\": \"account\", \n",
       "  \"payouts_enabled\": true, \n",
       "  \"statement_descriptor\": \"GOOGLE.COM\", \n",
       "  \"support_email\": null, \n",
       "  \"support_phone\": \"1131313131\", \n",
       "  \"timezone\": \"America/New_York\", \n",
       "  \"type\": \"standard\"\n",
       "}"
      ]
     },
     "execution_count": 70,
     "metadata": {},
     "output_type": "execute_result"
    }
   ],
   "source": [
    "stripe.Account.retrieve(\"acct_1AVioxGbnkSfqivl\")"
   ]
  },
  {
   "cell_type": "code",
   "execution_count": 65,
   "metadata": {
    "collapsed": false
   },
   "outputs": [
    {
     "data": {
      "text/plain": [
       "<Customer customer id=cus_Arv8ut4gOsBX5k at 0x4125dc8L> JSON: {\n",
       "  \"account_balance\": 0, \n",
       "  \"created\": 1497822639, \n",
       "  \"currency\": null, \n",
       "  \"default_source\": \"card_1AWBI3GbnkSfqivlZnTGkL7w\", \n",
       "  \"delinquent\": false, \n",
       "  \"description\": null, \n",
       "  \"discount\": null, \n",
       "  \"email\": \"person@example.edu\", \n",
       "  \"id\": \"cus_Arv8ut4gOsBX5k\", \n",
       "  \"livemode\": false, \n",
       "  \"metadata\": {}, \n",
       "  \"object\": \"customer\", \n",
       "  \"shipping\": null, \n",
       "  \"sources\": {\n",
       "    \"data\": [\n",
       "      {\n",
       "        \"address_city\": null, \n",
       "        \"address_country\": null, \n",
       "        \"address_line1\": null, \n",
       "        \"address_line1_check\": null, \n",
       "        \"address_line2\": null, \n",
       "        \"address_state\": null, \n",
       "        \"address_zip\": null, \n",
       "        \"address_zip_check\": null, \n",
       "        \"brand\": \"Visa\", \n",
       "        \"country\": \"US\", \n",
       "        \"customer\": \"cus_Arv8ut4gOsBX5k\", \n",
       "        \"cvc_check\": null, \n",
       "        \"dynamic_last4\": null, \n",
       "        \"exp_month\": 8, \n",
       "        \"exp_year\": 2019, \n",
       "        \"fingerprint\": \"NVRSN9epx5wuFVlz\", \n",
       "        \"funding\": \"credit\", \n",
       "        \"id\": \"card_1AWBI3GbnkSfqivlZnTGkL7w\", \n",
       "        \"last4\": \"4242\", \n",
       "        \"metadata\": {}, \n",
       "        \"name\": null, \n",
       "        \"object\": \"card\", \n",
       "        \"tokenization_method\": null\n",
       "      }\n",
       "    ], \n",
       "    \"has_more\": false, \n",
       "    \"object\": \"list\", \n",
       "    \"total_count\": 1, \n",
       "    \"url\": \"/v1/customers/cus_Arv8ut4gOsBX5k/sources\"\n",
       "  }, \n",
       "  \"subscriptions\": {\n",
       "    \"data\": [], \n",
       "    \"has_more\": false, \n",
       "    \"object\": \"list\", \n",
       "    \"total_count\": 0, \n",
       "    \"url\": \"/v1/customers/cus_Arv8ut4gOsBX5k/subscriptions\"\n",
       "  }\n",
       "}"
      ]
     },
     "execution_count": 65,
     "metadata": {},
     "output_type": "execute_result"
    }
   ],
   "source": [
    "cust1"
   ]
  },
  {
   "cell_type": "code",
   "execution_count": 68,
   "metadata": {
    "collapsed": false
   },
   "outputs": [
    {
     "ename": "PermissionError",
     "evalue": "The provided key 'sk_test_********************7jVs' does not have access to account 'cus_Arv8ut4gOsBX5k' (or that account does not exist). Application access may have been revoked.",
     "output_type": "error",
     "traceback": [
      "\u001b[1;31m\u001b[0m",
      "\u001b[1;31mPermissionError\u001b[0mTraceback (most recent call last)",
      "\u001b[1;32m<ipython-input-68-23e9e55f5ab4>\u001b[0m in \u001b[0;36m<module>\u001b[1;34m()\u001b[0m\n\u001b[0;32m      5\u001b[0m     \u001b[0mapplication_fee\u001b[0m\u001b[1;33m=\u001b[0m\u001b[1;36m123\u001b[0m\u001b[1;33m,\u001b[0m\u001b[1;33m\u001b[0m\u001b[0m\n\u001b[0;32m      6\u001b[0m   \u001b[0mstripe_account\u001b[0m\u001b[1;33m=\u001b[0m\u001b[0mcust1\u001b[0m\u001b[1;33m.\u001b[0m\u001b[0mid\u001b[0m\u001b[1;33m,\u001b[0m\u001b[1;33m\u001b[0m\u001b[0m\n\u001b[1;32m----> 7\u001b[1;33m     \u001b[0mcapture\u001b[0m \u001b[1;33m=\u001b[0m \u001b[0mFalse\u001b[0m\u001b[1;33m\u001b[0m\u001b[0m\n\u001b[0m\u001b[0;32m      8\u001b[0m )\n",
      "\u001b[1;32mC:\\Anaconda2\\lib\\site-packages\\stripe\\resource.pyc\u001b[0m in \u001b[0;36mcreate\u001b[1;34m(cls, api_key, idempotency_key, stripe_account, **params)\u001b[0m\n\u001b[0;32m    464\u001b[0m         \u001b[0murl\u001b[0m \u001b[1;33m=\u001b[0m \u001b[0mcls\u001b[0m\u001b[1;33m.\u001b[0m\u001b[0mclass_url\u001b[0m\u001b[1;33m(\u001b[0m\u001b[1;33m)\u001b[0m\u001b[1;33m\u001b[0m\u001b[0m\n\u001b[0;32m    465\u001b[0m         \u001b[0mheaders\u001b[0m \u001b[1;33m=\u001b[0m \u001b[0mpopulate_headers\u001b[0m\u001b[1;33m(\u001b[0m\u001b[0midempotency_key\u001b[0m\u001b[1;33m)\u001b[0m\u001b[1;33m\u001b[0m\u001b[0m\n\u001b[1;32m--> 466\u001b[1;33m         \u001b[0mresponse\u001b[0m\u001b[1;33m,\u001b[0m \u001b[0mapi_key\u001b[0m \u001b[1;33m=\u001b[0m \u001b[0mrequestor\u001b[0m\u001b[1;33m.\u001b[0m\u001b[0mrequest\u001b[0m\u001b[1;33m(\u001b[0m\u001b[1;34m'post'\u001b[0m\u001b[1;33m,\u001b[0m \u001b[0murl\u001b[0m\u001b[1;33m,\u001b[0m \u001b[0mparams\u001b[0m\u001b[1;33m,\u001b[0m \u001b[0mheaders\u001b[0m\u001b[1;33m)\u001b[0m\u001b[1;33m\u001b[0m\u001b[0m\n\u001b[0m\u001b[0;32m    467\u001b[0m         \u001b[1;32mreturn\u001b[0m \u001b[0mconvert_to_stripe_object\u001b[0m\u001b[1;33m(\u001b[0m\u001b[0mresponse\u001b[0m\u001b[1;33m,\u001b[0m \u001b[0mapi_key\u001b[0m\u001b[1;33m,\u001b[0m \u001b[0mstripe_account\u001b[0m\u001b[1;33m)\u001b[0m\u001b[1;33m\u001b[0m\u001b[0m\n\u001b[0;32m    468\u001b[0m \u001b[1;33m\u001b[0m\u001b[0m\n",
      "\u001b[1;32mC:\\Anaconda2\\lib\\site-packages\\stripe\\api_requestor.pyc\u001b[0m in \u001b[0;36mrequest\u001b[1;34m(self, method, url, params, headers)\u001b[0m\n\u001b[0;32m    149\u001b[0m         rbody, rcode, rheaders, my_api_key = self.request_raw(\n\u001b[0;32m    150\u001b[0m             method.lower(), url, params, headers)\n\u001b[1;32m--> 151\u001b[1;33m         \u001b[0mresp\u001b[0m \u001b[1;33m=\u001b[0m \u001b[0mself\u001b[0m\u001b[1;33m.\u001b[0m\u001b[0minterpret_response\u001b[0m\u001b[1;33m(\u001b[0m\u001b[0mrbody\u001b[0m\u001b[1;33m,\u001b[0m \u001b[0mrcode\u001b[0m\u001b[1;33m,\u001b[0m \u001b[0mrheaders\u001b[0m\u001b[1;33m)\u001b[0m\u001b[1;33m\u001b[0m\u001b[0m\n\u001b[0m\u001b[0;32m    152\u001b[0m         \u001b[1;32mreturn\u001b[0m \u001b[0mresp\u001b[0m\u001b[1;33m,\u001b[0m \u001b[0mmy_api_key\u001b[0m\u001b[1;33m\u001b[0m\u001b[0m\n\u001b[0;32m    153\u001b[0m \u001b[1;33m\u001b[0m\u001b[0m\n",
      "\u001b[1;32mC:\\Anaconda2\\lib\\site-packages\\stripe\\api_requestor.pyc\u001b[0m in \u001b[0;36minterpret_response\u001b[1;34m(self, rbody, rcode, rheaders)\u001b[0m\n\u001b[0;32m    354\u001b[0m                 rbody, rcode, rheaders)\n\u001b[0;32m    355\u001b[0m         \u001b[1;32mif\u001b[0m \u001b[1;32mnot\u001b[0m \u001b[1;33m(\u001b[0m\u001b[1;36m200\u001b[0m \u001b[1;33m<=\u001b[0m \u001b[0mrcode\u001b[0m \u001b[1;33m<\u001b[0m \u001b[1;36m300\u001b[0m\u001b[1;33m)\u001b[0m\u001b[1;33m:\u001b[0m\u001b[1;33m\u001b[0m\u001b[0m\n\u001b[1;32m--> 356\u001b[1;33m             \u001b[0mself\u001b[0m\u001b[1;33m.\u001b[0m\u001b[0mhandle_error_response\u001b[0m\u001b[1;33m(\u001b[0m\u001b[0mrbody\u001b[0m\u001b[1;33m,\u001b[0m \u001b[0mrcode\u001b[0m\u001b[1;33m,\u001b[0m \u001b[0mresp\u001b[0m\u001b[1;33m,\u001b[0m \u001b[0mrheaders\u001b[0m\u001b[1;33m)\u001b[0m\u001b[1;33m\u001b[0m\u001b[0m\n\u001b[0m\u001b[0;32m    357\u001b[0m         \u001b[1;32mreturn\u001b[0m \u001b[0mresp\u001b[0m\u001b[1;33m\u001b[0m\u001b[0m\n\u001b[0;32m    358\u001b[0m \u001b[1;33m\u001b[0m\u001b[0m\n",
      "\u001b[1;32mC:\\Anaconda2\\lib\\site-packages\\stripe\\api_requestor.pyc\u001b[0m in \u001b[0;36mhandle_error_response\u001b[1;34m(self, rbody, rcode, resp, rheaders)\u001b[0m\n\u001b[0;32m    174\u001b[0m                 rbody, rcode, resp, rheaders, error_data)\n\u001b[0;32m    175\u001b[0m \u001b[1;33m\u001b[0m\u001b[0m\n\u001b[1;32m--> 176\u001b[1;33m         \u001b[1;32mraise\u001b[0m \u001b[0merr\u001b[0m\u001b[1;33m\u001b[0m\u001b[0m\n\u001b[0m\u001b[0;32m    177\u001b[0m \u001b[1;33m\u001b[0m\u001b[0m\n\u001b[0;32m    178\u001b[0m     \u001b[1;32mdef\u001b[0m \u001b[0mspecific_api_error\u001b[0m\u001b[1;33m(\u001b[0m\u001b[0mself\u001b[0m\u001b[1;33m,\u001b[0m \u001b[0mrbody\u001b[0m\u001b[1;33m,\u001b[0m \u001b[0mrcode\u001b[0m\u001b[1;33m,\u001b[0m \u001b[0mresp\u001b[0m\u001b[1;33m,\u001b[0m \u001b[0mrheaders\u001b[0m\u001b[1;33m,\u001b[0m \u001b[0merror_data\u001b[0m\u001b[1;33m)\u001b[0m\u001b[1;33m:\u001b[0m\u001b[1;33m\u001b[0m\u001b[0m\n",
      "\u001b[1;31mPermissionError\u001b[0m: The provided key 'sk_test_********************7jVs' does not have access to account 'cus_Arv8ut4gOsBX5k' (or that account does not exist). Application access may have been revoked."
     ]
    }
   ],
   "source": [
    "charge = stripe.Charge.create(\n",
    "  amount=1000,\n",
    "  currency=\"cad\",\n",
    "  source=\"tok_visa\",\n",
    "    application_fee=123,\n",
    "  stripe_account=cust1.id,\n",
    "    capture = False\n",
    ")"
   ]
  },
  {
   "cell_type": "code",
   "execution_count": 58,
   "metadata": {
    "collapsed": false
   },
   "outputs": [
    {
     "data": {
      "text/plain": [
       "False"
      ]
     },
     "execution_count": 58,
     "metadata": {},
     "output_type": "execute_result"
    }
   ],
   "source": [
    "charge.captured"
   ]
  },
  {
   "cell_type": "code",
   "execution_count": null,
   "metadata": {
    "collapsed": false
   },
   "outputs": [],
   "source": []
  },
  {
   "cell_type": "code",
   "execution_count": 59,
   "metadata": {
    "collapsed": false
   },
   "outputs": [
    {
     "data": {
      "text/plain": [
       "u'cus_Arv8ut4gOsBX5k'"
      ]
     },
     "execution_count": 59,
     "metadata": {},
     "output_type": "execute_result"
    }
   ],
   "source": [
    "cust1.id"
   ]
  },
  {
   "cell_type": "code",
   "execution_count": 69,
   "metadata": {
    "collapsed": false
   },
   "outputs": [
    {
     "ename": "InvalidRequestError",
     "evalue": "Request req_ArvDQi0aeIcVLJ: No such customer: cus_Arv8ut4gOsBX5k",
     "output_type": "error",
     "traceback": [
      "\u001b[1;31m\u001b[0m",
      "\u001b[1;31mInvalidRequestError\u001b[0mTraceback (most recent call last)",
      "\u001b[1;32m<ipython-input-69-dff7ba7fea1c>\u001b[0m in \u001b[0;36m<module>\u001b[1;34m()\u001b[0m\n\u001b[0;32m      2\u001b[0m   \u001b[0mamount\u001b[0m\u001b[1;33m=\u001b[0m\u001b[1;36m1000\u001b[0m\u001b[1;33m,\u001b[0m\u001b[1;33m\u001b[0m\u001b[0m\n\u001b[0;32m      3\u001b[0m   \u001b[0mcurrency\u001b[0m\u001b[1;33m=\u001b[0m\u001b[1;34m\"cad\"\u001b[0m\u001b[1;33m,\u001b[0m\u001b[1;33m\u001b[0m\u001b[0m\n\u001b[1;32m----> 4\u001b[1;33m   \u001b[0mcustomer\u001b[0m\u001b[1;33m=\u001b[0m\u001b[0mcust1\u001b[0m\u001b[1;33m.\u001b[0m\u001b[0mid\u001b[0m\u001b[1;33m\u001b[0m\u001b[0m\n\u001b[0m\u001b[0;32m      5\u001b[0m )\n",
      "\u001b[1;32mC:\\Anaconda2\\lib\\site-packages\\stripe\\resource.pyc\u001b[0m in \u001b[0;36mcreate\u001b[1;34m(cls, api_key, idempotency_key, stripe_account, **params)\u001b[0m\n\u001b[0;32m    464\u001b[0m         \u001b[0murl\u001b[0m \u001b[1;33m=\u001b[0m \u001b[0mcls\u001b[0m\u001b[1;33m.\u001b[0m\u001b[0mclass_url\u001b[0m\u001b[1;33m(\u001b[0m\u001b[1;33m)\u001b[0m\u001b[1;33m\u001b[0m\u001b[0m\n\u001b[0;32m    465\u001b[0m         \u001b[0mheaders\u001b[0m \u001b[1;33m=\u001b[0m \u001b[0mpopulate_headers\u001b[0m\u001b[1;33m(\u001b[0m\u001b[0midempotency_key\u001b[0m\u001b[1;33m)\u001b[0m\u001b[1;33m\u001b[0m\u001b[0m\n\u001b[1;32m--> 466\u001b[1;33m         \u001b[0mresponse\u001b[0m\u001b[1;33m,\u001b[0m \u001b[0mapi_key\u001b[0m \u001b[1;33m=\u001b[0m \u001b[0mrequestor\u001b[0m\u001b[1;33m.\u001b[0m\u001b[0mrequest\u001b[0m\u001b[1;33m(\u001b[0m\u001b[1;34m'post'\u001b[0m\u001b[1;33m,\u001b[0m \u001b[0murl\u001b[0m\u001b[1;33m,\u001b[0m \u001b[0mparams\u001b[0m\u001b[1;33m,\u001b[0m \u001b[0mheaders\u001b[0m\u001b[1;33m)\u001b[0m\u001b[1;33m\u001b[0m\u001b[0m\n\u001b[0m\u001b[0;32m    467\u001b[0m         \u001b[1;32mreturn\u001b[0m \u001b[0mconvert_to_stripe_object\u001b[0m\u001b[1;33m(\u001b[0m\u001b[0mresponse\u001b[0m\u001b[1;33m,\u001b[0m \u001b[0mapi_key\u001b[0m\u001b[1;33m,\u001b[0m \u001b[0mstripe_account\u001b[0m\u001b[1;33m)\u001b[0m\u001b[1;33m\u001b[0m\u001b[0m\n\u001b[0;32m    468\u001b[0m \u001b[1;33m\u001b[0m\u001b[0m\n",
      "\u001b[1;32mC:\\Anaconda2\\lib\\site-packages\\stripe\\api_requestor.pyc\u001b[0m in \u001b[0;36mrequest\u001b[1;34m(self, method, url, params, headers)\u001b[0m\n\u001b[0;32m    149\u001b[0m         rbody, rcode, rheaders, my_api_key = self.request_raw(\n\u001b[0;32m    150\u001b[0m             method.lower(), url, params, headers)\n\u001b[1;32m--> 151\u001b[1;33m         \u001b[0mresp\u001b[0m \u001b[1;33m=\u001b[0m \u001b[0mself\u001b[0m\u001b[1;33m.\u001b[0m\u001b[0minterpret_response\u001b[0m\u001b[1;33m(\u001b[0m\u001b[0mrbody\u001b[0m\u001b[1;33m,\u001b[0m \u001b[0mrcode\u001b[0m\u001b[1;33m,\u001b[0m \u001b[0mrheaders\u001b[0m\u001b[1;33m)\u001b[0m\u001b[1;33m\u001b[0m\u001b[0m\n\u001b[0m\u001b[0;32m    152\u001b[0m         \u001b[1;32mreturn\u001b[0m \u001b[0mresp\u001b[0m\u001b[1;33m,\u001b[0m \u001b[0mmy_api_key\u001b[0m\u001b[1;33m\u001b[0m\u001b[0m\n\u001b[0;32m    153\u001b[0m \u001b[1;33m\u001b[0m\u001b[0m\n",
      "\u001b[1;32mC:\\Anaconda2\\lib\\site-packages\\stripe\\api_requestor.pyc\u001b[0m in \u001b[0;36minterpret_response\u001b[1;34m(self, rbody, rcode, rheaders)\u001b[0m\n\u001b[0;32m    354\u001b[0m                 rbody, rcode, rheaders)\n\u001b[0;32m    355\u001b[0m         \u001b[1;32mif\u001b[0m \u001b[1;32mnot\u001b[0m \u001b[1;33m(\u001b[0m\u001b[1;36m200\u001b[0m \u001b[1;33m<=\u001b[0m \u001b[0mrcode\u001b[0m \u001b[1;33m<\u001b[0m \u001b[1;36m300\u001b[0m\u001b[1;33m)\u001b[0m\u001b[1;33m:\u001b[0m\u001b[1;33m\u001b[0m\u001b[0m\n\u001b[1;32m--> 356\u001b[1;33m             \u001b[0mself\u001b[0m\u001b[1;33m.\u001b[0m\u001b[0mhandle_error_response\u001b[0m\u001b[1;33m(\u001b[0m\u001b[0mrbody\u001b[0m\u001b[1;33m,\u001b[0m \u001b[0mrcode\u001b[0m\u001b[1;33m,\u001b[0m \u001b[0mresp\u001b[0m\u001b[1;33m,\u001b[0m \u001b[0mrheaders\u001b[0m\u001b[1;33m)\u001b[0m\u001b[1;33m\u001b[0m\u001b[0m\n\u001b[0m\u001b[0;32m    357\u001b[0m         \u001b[1;32mreturn\u001b[0m \u001b[0mresp\u001b[0m\u001b[1;33m\u001b[0m\u001b[0m\n\u001b[0;32m    358\u001b[0m \u001b[1;33m\u001b[0m\u001b[0m\n",
      "\u001b[1;32mC:\\Anaconda2\\lib\\site-packages\\stripe\\api_requestor.pyc\u001b[0m in \u001b[0;36mhandle_error_response\u001b[1;34m(self, rbody, rcode, resp, rheaders)\u001b[0m\n\u001b[0;32m    174\u001b[0m                 rbody, rcode, resp, rheaders, error_data)\n\u001b[0;32m    175\u001b[0m \u001b[1;33m\u001b[0m\u001b[0m\n\u001b[1;32m--> 176\u001b[1;33m         \u001b[1;32mraise\u001b[0m \u001b[0merr\u001b[0m\u001b[1;33m\u001b[0m\u001b[0m\n\u001b[0m\u001b[0;32m    177\u001b[0m \u001b[1;33m\u001b[0m\u001b[0m\n\u001b[0;32m    178\u001b[0m     \u001b[1;32mdef\u001b[0m \u001b[0mspecific_api_error\u001b[0m\u001b[1;33m(\u001b[0m\u001b[0mself\u001b[0m\u001b[1;33m,\u001b[0m \u001b[0mrbody\u001b[0m\u001b[1;33m,\u001b[0m \u001b[0mrcode\u001b[0m\u001b[1;33m,\u001b[0m \u001b[0mresp\u001b[0m\u001b[1;33m,\u001b[0m \u001b[0mrheaders\u001b[0m\u001b[1;33m,\u001b[0m \u001b[0merror_data\u001b[0m\u001b[1;33m)\u001b[0m\u001b[1;33m:\u001b[0m\u001b[1;33m\u001b[0m\u001b[0m\n",
      "\u001b[1;31mInvalidRequestError\u001b[0m: Request req_ArvDQi0aeIcVLJ: No such customer: cus_Arv8ut4gOsBX5k"
     ]
    }
   ],
   "source": [
    "charge = stripe.Charge.create(\n",
    "  amount=1000,\n",
    "  currency=\"cad\",\n",
    "  customer=cust1.id\n",
    ")\n"
   ]
  },
  {
   "cell_type": "code",
   "execution_count": 61,
   "metadata": {
    "collapsed": false
   },
   "outputs": [],
   "source": [
    "# Create a Customer:\n",
    "customer = stripe.Customer.create(\n",
    "  email=\"paying.user@example.com\",\n",
    "  source=\"tok_visa\",\n",
    ")"
   ]
  },
  {
   "cell_type": "code",
   "execution_count": 64,
   "metadata": {
    "collapsed": false
   },
   "outputs": [
    {
     "data": {
      "text/plain": [
       "u'cus_ArvBbP6Ozo3uDn'"
      ]
     },
     "execution_count": 64,
     "metadata": {},
     "output_type": "execute_result"
    }
   ],
   "source": [
    "customer.id"
   ]
  },
  {
   "cell_type": "code",
   "execution_count": 63,
   "metadata": {
    "collapsed": false
   },
   "outputs": [],
   "source": [
    "charge = stripe.Charge.create(\n",
    "  amount=1500, # $15.00 this time\n",
    "  currency=\"cad\",\n",
    "  customer=customer.id, # Previously stored, then retrieved\n",
    ")"
   ]
  },
  {
   "cell_type": "code",
   "execution_count": null,
   "metadata": {
    "collapsed": true
   },
   "outputs": [],
   "source": []
  }
 ],
 "metadata": {
  "anaconda-cloud": {},
  "kernelspec": {
   "display_name": "Python [Root]",
   "language": "python",
   "name": "Python [Root]"
  },
  "language_info": {
   "codemirror_mode": {
    "name": "ipython",
    "version": 2
   },
   "file_extension": ".py",
   "mimetype": "text/x-python",
   "name": "python",
   "nbconvert_exporter": "python",
   "pygments_lexer": "ipython2",
   "version": "2.7.12"
  }
 },
 "nbformat": 4,
 "nbformat_minor": 0
}
