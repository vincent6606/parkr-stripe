{
 "cells": [
  {
   "cell_type": "code",
   "execution_count": 1,
   "metadata": {
    "collapsed": false
   },
   "outputs": [
    {
     "name": "stdout",
     "output_type": "stream",
     "text": [
      "Collecting stripe\n",
      "  Downloading stripe-1.59.0-py2-none-any.whl (207kB)\n",
      "Requirement already satisfied (use --upgrade to upgrade): requests>=0.8.8 in c:\\anaconda2\\lib\\site-packages (from stripe)\n",
      "Installing collected packages: stripe\n",
      "Successfully installed stripe-1.59.0\n"
     ]
    },
    {
     "name": "stderr",
     "output_type": "stream",
     "text": [
      "You are using pip version 8.1.2, however version 9.0.1 is available.\n",
      "You should consider upgrading via the 'python -m pip install --upgrade pip' command.\n"
     ]
    }
   ],
   "source": [
    "!pip install stripe"
   ]
  },
  {
   "cell_type": "code",
   "execution_count": 3,
   "metadata": {
    "collapsed": true
   },
   "outputs": [],
   "source": [
    "import stripe"
   ]
  },
  {
   "cell_type": "code",
   "execution_count": 4,
   "metadata": {
    "collapsed": false,
    "scrolled": true
   },
   "outputs": [],
   "source": [
    "stripe.api_key = \"sk_test_lzKZJyFzGwbDDV89AMAx7jVs\""
   ]
  },
  {
   "cell_type": "code",
   "execution_count": 32,
   "metadata": {
    "collapsed": false
   },
   "outputs": [],
   "source": [
    "#Just neeed to save the connected account's id\n",
    "\n",
    "#create a new Connected account on behalf of the owner\n",
    "acct = stripe.Account.create(\n",
    "    country = \"CA\",\n",
    "    type = \"custom\"\n",
    "\n",
    "\n",
    ")"
   ]
  },
  {
   "cell_type": "markdown",
   "metadata": {},
   "source": [
    "### \"In most cases we are able to move forward with the account owners name, and last 4 digits of their SSN\" You also need a token or bank account information to payout user"
   ]
  },
  {
   "cell_type": "code",
   "execution_count": 39,
   "metadata": {
    "collapsed": true
   },
   "outputs": [],
   "source": [
    "#Verification is done through stages, high amounts require more stages\n",
    "#Look at these entries for more verification\n",
    "#https://stripe.com/docs/connect/required-verification-information"
   ]
  },
  {
   "cell_type": "code",
   "execution_count": 48,
   "metadata": {
    "collapsed": false
   },
   "outputs": [],
   "source": [
    "acct = stripe.Account.retrieve(acct.id)"
   ]
  },
  {
   "cell_type": "code",
   "execution_count": 49,
   "metadata": {
    "collapsed": false
   },
   "outputs": [],
   "source": [
    "#Check whether the account has payouts enabled\n",
    "acct.legal_entity.last_name = \"Chen\"\n",
    "acct.legal_entity.first_name = \"Eddie\"\n",
    "acct.external_account = \"tok_visa_debit\""
   ]
  },
  {
   "cell_type": "code",
   "execution_count": 51,
   "metadata": {
    "collapsed": false
   },
   "outputs": [
    {
     "data": {
      "text/plain": [
       "<Account account id=acct_1AWbgNAZR9SZuPtN at 0x466edc8L> JSON: {\n",
       "  \"business_logo\": null, \n",
       "  \"business_name\": null, \n",
       "  \"business_url\": null, \n",
       "  \"charges_enabled\": true, \n",
       "  \"country\": \"CA\", \n",
       "  \"debit_negative_balances\": false, \n",
       "  \"decline_charge_on\": {\n",
       "    \"avs_failure\": false, \n",
       "    \"cvc_failure\": false\n",
       "  }, \n",
       "  \"default_currency\": \"cad\", \n",
       "  \"details_submitted\": false, \n",
       "  \"display_name\": null, \n",
       "  \"email\": null, \n",
       "  \"external_accounts\": {\n",
       "    \"data\": [\n",
       "      {\n",
       "        \"account\": \"acct_1AWbgNAZR9SZuPtN\", \n",
       "        \"address_city\": null, \n",
       "        \"address_country\": null, \n",
       "        \"address_line1\": null, \n",
       "        \"address_line1_check\": null, \n",
       "        \"address_line2\": null, \n",
       "        \"address_state\": null, \n",
       "        \"address_zip\": null, \n",
       "        \"address_zip_check\": null, \n",
       "        \"available_payout_methods\": [\n",
       "          \"standard\", \n",
       "          \"instant\"\n",
       "        ], \n",
       "        \"brand\": \"Visa\", \n",
       "        \"country\": \"US\", \n",
       "        \"currency\": \"usd\", \n",
       "        \"cvc_check\": null, \n",
       "        \"default_for_currency\": true, \n",
       "        \"dynamic_last4\": null, \n",
       "        \"exp_month\": 8, \n",
       "        \"exp_year\": 2019, \n",
       "        \"fingerprint\": \"uePZDrn0YNkx74w6\", \n",
       "        \"funding\": \"debit\", \n",
       "        \"id\": \"card_1AWbmYAZR9SZuPtNpLvN3IIZ\", \n",
       "        \"last4\": \"5556\", \n",
       "        \"metadata\": {}, \n",
       "        \"name\": null, \n",
       "        \"object\": \"card\", \n",
       "        \"tokenization_method\": null\n",
       "      }\n",
       "    ], \n",
       "    \"has_more\": false, \n",
       "    \"object\": \"list\", \n",
       "    \"total_count\": 1, \n",
       "    \"url\": \"/v1/accounts/acct_1AWbgNAZR9SZuPtN/external_accounts\"\n",
       "  }, \n",
       "  \"id\": \"acct_1AWbgNAZR9SZuPtN\", \n",
       "  \"legal_entity\": {\n",
       "    \"address\": {\n",
       "      \"city\": null, \n",
       "      \"country\": \"CA\", \n",
       "      \"line1\": null, \n",
       "      \"line2\": null, \n",
       "      \"postal_code\": null, \n",
       "      \"state\": null\n",
       "    }, \n",
       "    \"business_name\": null, \n",
       "    \"business_tax_id_provided\": false, \n",
       "    \"dob\": {\n",
       "      \"day\": 24, \n",
       "      \"month\": 6, \n",
       "      \"year\": 1994\n",
       "    }, \n",
       "    \"first_name\": \"Eddie\", \n",
       "    \"last_name\": \"Chen\", \n",
       "    \"personal_address\": {\n",
       "      \"city\": null, \n",
       "      \"country\": \"CA\", \n",
       "      \"line1\": null, \n",
       "      \"line2\": null, \n",
       "      \"postal_code\": null, \n",
       "      \"state\": null\n",
       "    }, \n",
       "    \"personal_id_number_provided\": false, \n",
       "    \"type\": null, \n",
       "    \"verification\": {\n",
       "      \"details\": null, \n",
       "      \"details_code\": null, \n",
       "      \"document\": null, \n",
       "      \"status\": \"unverified\"\n",
       "    }\n",
       "  }, \n",
       "  \"metadata\": {}, \n",
       "  \"object\": \"account\", \n",
       "  \"payout_schedule\": {\n",
       "    \"delay_days\": 7, \n",
       "    \"interval\": \"daily\"\n",
       "  }, \n",
       "  \"payout_statement_descriptor\": null, \n",
       "  \"payouts_enabled\": true, \n",
       "  \"product_description\": null, \n",
       "  \"statement_descriptor\": null, \n",
       "  \"support_email\": null, \n",
       "  \"support_phone\": null, \n",
       "  \"timezone\": \"Etc/UTC\", \n",
       "  \"tos_acceptance\": {\n",
       "    \"date\": 1497924550, \n",
       "    \"ip\": \"8.8.8.8\", \n",
       "    \"user_agent\": null\n",
       "  }, \n",
       "  \"type\": \"custom\", \n",
       "  \"verification\": {\n",
       "    \"disabled_reason\": null, \n",
       "    \"due_by\": null, \n",
       "    \"fields_needed\": [\n",
       "      \"legal_entity.type\"\n",
       "    ]\n",
       "  }\n",
       "}"
      ]
     },
     "execution_count": 51,
     "metadata": {},
     "output_type": "execute_result"
    }
   ],
   "source": [
    "acct.legal_entity.dob.day = 24\n",
    "acct.legal_entity.dob.month = 6\n",
    "acct.legal_entity.dob.year = 1994\n",
    "#User must agree to terms to enable payouts\n",
    "import time\n",
    "acct.tos_acceptance.date = int(time.time())\n",
    "acct.tos_acceptance.ip = '8.8.8.8' # Depends on what web framework you're using\n",
    "acct.save()"
   ]
  },
  {
   "cell_type": "code",
   "execution_count": 37,
   "metadata": {
    "collapsed": true
   },
   "outputs": [],
   "source": [
    "# from flask import request\n",
    "# request.environ.get('HTTP_X_REAL_IP', request.remote_addr)"
   ]
  },
  {
   "cell_type": "code",
   "execution_count": 46,
   "metadata": {
    "collapsed": false,
    "scrolled": false
   },
   "outputs": [
    {
     "data": {
      "text/plain": [
       "u'acct_1AWbgNAZR9SZuPtN'"
      ]
     },
     "execution_count": 46,
     "metadata": {},
     "output_type": "execute_result"
    }
   ],
   "source": [
    "acct.id"
   ]
  },
  {
   "cell_type": "code",
   "execution_count": null,
   "metadata": {
    "collapsed": true
   },
   "outputs": [],
   "source": []
  }
 ],
 "metadata": {
  "kernelspec": {
   "display_name": "Python [Root]",
   "language": "python",
   "name": "Python [Root]"
  },
  "language_info": {
   "codemirror_mode": {
    "name": "ipython",
    "version": 2
   },
   "file_extension": ".py",
   "mimetype": "text/x-python",
   "name": "python",
   "nbconvert_exporter": "python",
   "pygments_lexer": "ipython2",
   "version": "2.7.12"
  }
 },
 "nbformat": 4,
 "nbformat_minor": 0
}
