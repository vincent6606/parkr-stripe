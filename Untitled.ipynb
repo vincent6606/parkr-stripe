{
 "cells": [
  {
   "cell_type": "code",
   "execution_count": 1,
   "metadata": {
    "collapsed": false
   },
   "outputs": [
    {
     "name": "stdout",
     "output_type": "stream",
     "text": [
      "Collecting stripe\n",
      "  Downloading stripe-1.59.0-py2-none-any.whl (207kB)\n",
      "Requirement already satisfied (use --upgrade to upgrade): requests>=0.8.8 in c:\\anaconda2\\lib\\site-packages (from stripe)\n",
      "Installing collected packages: stripe\n",
      "Successfully installed stripe-1.59.0\n"
     ]
    },
    {
     "name": "stderr",
     "output_type": "stream",
     "text": [
      "You are using pip version 8.1.2, however version 9.0.1 is available.\n",
      "You should consider upgrading via the 'python -m pip install --upgrade pip' command.\n"
     ]
    }
   ],
   "source": [
    "!pip install stripe"
   ]
  },
  {
   "cell_type": "code",
   "execution_count": 2,
   "metadata": {
    "collapsed": true
   },
   "outputs": [],
   "source": [
    "import stripe"
   ]
  },
  {
   "cell_type": "code",
   "execution_count": 3,
   "metadata": {
    "collapsed": false,
    "scrolled": true
   },
   "outputs": [],
   "source": [
    "stripe.api_key = \"\""
   ]
  },
  {
   "cell_type": "code",
   "execution_count": 4,
   "metadata": {
    "collapsed": false
   },
   "outputs": [],
   "source": [
    "#Just neeed to save the connected account's id\n",
    "\n",
    "#create a new Connected account on behalf of the owner\n",
    "acct = stripe.Account.create(\n",
    "    country = \"CA\",\n",
    "    type = \"custom\"\n",
    "\n",
    "\n",
    ")"
   ]
  },
  {
   "cell_type": "markdown",
   "metadata": {},
   "source": [
    "### \"In most cases we are able to move forward with the account owners name, and last 4 digits of their SSN\" You also need a token or bank account information to payout user"
   ]
  },
  {
   "cell_type": "code",
   "execution_count": 39,
   "metadata": {
    "collapsed": true
   },
   "outputs": [],
   "source": [
    "#Verification is done through stages, high amounts require more stages\n",
    "#Look at these entries for more verification\n",
    "#https://stripe.com/docs/connect/required-verification-information"
   ]
  },
  {
   "cell_type": "code",
   "execution_count": 5,
   "metadata": {
    "collapsed": false
   },
   "outputs": [],
   "source": [
    "acct = stripe.Account.retrieve(acct.id)"
   ]
  },
  {
   "cell_type": "code",
   "execution_count": 6,
   "metadata": {
    "collapsed": false
   },
   "outputs": [],
   "source": [
    "#Check whether the account has payouts enabled\n",
    "acct.legal_entity.last_name = \"Chen\"\n",
    "acct.legal_entity.first_name = \"Jenny\"\n",
    "acct.external_account = \"tok_visa_debit\""
   ]
  },
  {
   "cell_type": "code",
   "execution_count": 7,
   "metadata": {
    "collapsed": false
   },
   "outputs": [
    {
     "data": {
      "text/plain": [
       "<Account account id=acct_1AWnpvB0VLJp2HWv at 0x3fc7828L> JSON: {\n",
       "  \"business_logo\": null, \n",
       "  \"business_name\": null, \n",
       "  \"business_url\": null, \n",
       "  \"charges_enabled\": true, \n",
       "  \"country\": \"CA\", \n",
       "  \"debit_negative_balances\": false, \n",
       "  \"decline_charge_on\": {\n",
       "    \"avs_failure\": false, \n",
       "    \"cvc_failure\": false\n",
       "  }, \n",
       "  \"default_currency\": \"cad\", \n",
       "  \"details_submitted\": false, \n",
       "  \"display_name\": null, \n",
       "  \"email\": null, \n",
       "  \"external_accounts\": {\n",
       "    \"data\": [\n",
       "      {\n",
       "        \"account\": \"acct_1AWnpvB0VLJp2HWv\", \n",
       "        \"address_city\": null, \n",
       "        \"address_country\": null, \n",
       "        \"address_line1\": null, \n",
       "        \"address_line1_check\": null, \n",
       "        \"address_line2\": null, \n",
       "        \"address_state\": null, \n",
       "        \"address_zip\": null, \n",
       "        \"address_zip_check\": null, \n",
       "        \"available_payout_methods\": [\n",
       "          \"standard\", \n",
       "          \"instant\"\n",
       "        ], \n",
       "        \"brand\": \"Visa\", \n",
       "        \"country\": \"US\", \n",
       "        \"currency\": \"usd\", \n",
       "        \"cvc_check\": null, \n",
       "        \"default_for_currency\": true, \n",
       "        \"dynamic_last4\": null, \n",
       "        \"exp_month\": 8, \n",
       "        \"exp_year\": 2019, \n",
       "        \"fingerprint\": \"MRBtYn4NOnDVTRVx\", \n",
       "        \"funding\": \"debit\", \n",
       "        \"id\": \"card_1AWnqbB0VLJp2HWvTYa8kRsH\", \n",
       "        \"last4\": \"5556\", \n",
       "        \"metadata\": {}, \n",
       "        \"name\": null, \n",
       "        \"object\": \"card\", \n",
       "        \"tokenization_method\": null\n",
       "      }\n",
       "    ], \n",
       "    \"has_more\": false, \n",
       "    \"object\": \"list\", \n",
       "    \"total_count\": 1, \n",
       "    \"url\": \"/v1/accounts/acct_1AWnpvB0VLJp2HWv/external_accounts\"\n",
       "  }, \n",
       "  \"id\": \"acct_1AWnpvB0VLJp2HWv\", \n",
       "  \"legal_entity\": {\n",
       "    \"address\": {\n",
       "      \"city\": null, \n",
       "      \"country\": \"CA\", \n",
       "      \"line1\": null, \n",
       "      \"line2\": null, \n",
       "      \"postal_code\": null, \n",
       "      \"state\": null\n",
       "    }, \n",
       "    \"business_name\": null, \n",
       "    \"business_tax_id_provided\": false, \n",
       "    \"dob\": {\n",
       "      \"day\": 24, \n",
       "      \"month\": 6, \n",
       "      \"year\": 1994\n",
       "    }, \n",
       "    \"first_name\": \"Jenny\", \n",
       "    \"last_name\": \"Chen\", \n",
       "    \"personal_address\": {\n",
       "      \"city\": null, \n",
       "      \"country\": \"CA\", \n",
       "      \"line1\": null, \n",
       "      \"line2\": null, \n",
       "      \"postal_code\": null, \n",
       "      \"state\": null\n",
       "    }, \n",
       "    \"personal_id_number_provided\": false, \n",
       "    \"type\": null, \n",
       "    \"verification\": {\n",
       "      \"details\": null, \n",
       "      \"details_code\": null, \n",
       "      \"document\": null, \n",
       "      \"status\": \"unverified\"\n",
       "    }\n",
       "  }, \n",
       "  \"metadata\": {}, \n",
       "  \"object\": \"account\", \n",
       "  \"payout_schedule\": {\n",
       "    \"delay_days\": 7, \n",
       "    \"interval\": \"daily\"\n",
       "  }, \n",
       "  \"payout_statement_descriptor\": null, \n",
       "  \"payouts_enabled\": true, \n",
       "  \"product_description\": null, \n",
       "  \"statement_descriptor\": null, \n",
       "  \"support_email\": null, \n",
       "  \"support_phone\": null, \n",
       "  \"timezone\": \"Etc/UTC\", \n",
       "  \"tos_acceptance\": {\n",
       "    \"date\": 1497970852, \n",
       "    \"ip\": \"8.8.8.8\", \n",
       "    \"user_agent\": null\n",
       "  }, \n",
       "  \"type\": \"custom\", \n",
       "  \"verification\": {\n",
       "    \"disabled_reason\": null, \n",
       "    \"due_by\": null, \n",
       "    \"fields_needed\": [\n",
       "      \"legal_entity.type\"\n",
       "    ]\n",
       "  }\n",
       "}"
      ]
     },
     "execution_count": 7,
     "metadata": {},
     "output_type": "execute_result"
    }
   ],
   "source": [
    "acct.legal_entity.dob.day = 24\n",
    "acct.legal_entity.dob.month = 6\n",
    "acct.legal_entity.dob.year = 1994\n",
    "#User must agree to terms to enable payouts\n",
    "import time\n",
    "acct.tos_acceptance.date = int(time.time())\n",
    "acct.tos_acceptance.ip = '8.8.8.8' # Depends on what web framework you're using\n",
    "acct.save()"
   ]
  },
  {
   "cell_type": "code",
   "execution_count": 37,
   "metadata": {
    "collapsed": true
   },
   "outputs": [],
   "source": [
    "# from flask import request\n",
    "# request.environ.get('HTTP_X_REAL_IP', request.remote_addr)"
   ]
  },
  {
   "cell_type": "code",
   "execution_count": 32,
   "metadata": {
    "collapsed": false,
    "scrolled": false
   },
   "outputs": [
    {
     "data": {
      "text/plain": [
       "<Account account id=acct_1A1oszCb3Ehrkhxx at 0x3fc7708L> JSON: {\n",
       "  \"business_logo\": null, \n",
       "  \"business_name\": \"\", \n",
       "  \"business_url\": \"goparkr.com\", \n",
       "  \"charges_enabled\": true, \n",
       "  \"country\": \"CA\", \n",
       "  \"default_currency\": \"cad\", \n",
       "  \"details_submitted\": true, \n",
       "  \"display_name\": \"Parkr\", \n",
       "  \"email\": \"parkrteam@gmail.com\", \n",
       "  \"id\": \"acct_1A1oszCb3Ehrkhxx\", \n",
       "  \"object\": \"account\", \n",
       "  \"payouts_enabled\": true, \n",
       "  \"statement_descriptor\": \"PARKR\", \n",
       "  \"support_address\": {\n",
       "    \"city\": \"\", \n",
       "    \"country\": \"CA\", \n",
       "    \"line1\": null, \n",
       "    \"line2\": null, \n",
       "    \"postal_code\": \"\", \n",
       "    \"state\": \"\"\n",
       "  }, \n",
       "  \"support_email\": \"parkrteam@gmail.com\", \n",
       "  \"support_phone\": \"5197819061\", \n",
       "  \"support_url\": \"\", \n",
       "  \"timezone\": \"America/Toronto\", \n",
       "  \"type\": \"standard\"\n",
       "}"
      ]
     },
     "execution_count": 32,
     "metadata": {},
     "output_type": "execute_result"
    }
   ],
   "source": [
    "stripe.Account.retrieve(\"acct_1A1oszCb3Ehrkhxx\")"
   ]
  },
  {
   "cell_type": "code",
   "execution_count": 23,
   "metadata": {
    "collapsed": false
   },
   "outputs": [
    {
     "data": {
      "text/plain": [
       "<Balance balance at 0x41deca8L> JSON: {\n",
       "  \"available\": [\n",
       "    {\n",
       "      \"amount\": 0, \n",
       "      \"currency\": \"cad\", \n",
       "      \"source_types\": {\n",
       "        \"card\": 0\n",
       "      }\n",
       "    }\n",
       "  ], \n",
       "  \"connect_reserved\": [\n",
       "    {\n",
       "      \"amount\": 0, \n",
       "      \"currency\": \"cad\"\n",
       "    }\n",
       "  ], \n",
       "  \"livemode\": false, \n",
       "  \"object\": \"balance\", \n",
       "  \"pending\": [\n",
       "    {\n",
       "      \"amount\": 10384, \n",
       "      \"currency\": \"cad\", \n",
       "      \"source_types\": {\n",
       "        \"card\": 10384\n",
       "      }\n",
       "    }\n",
       "  ]\n",
       "}"
      ]
     },
     "execution_count": 23,
     "metadata": {},
     "output_type": "execute_result"
    }
   ],
   "source": [
    "stripe.Balance.retrieve()"
   ]
  },
  {
   "cell_type": "code",
   "execution_count": 10,
   "metadata": {
    "collapsed": false
   },
   "outputs": [
    {
     "data": {
      "text/plain": [
       "<ListObject list at 0x407aee8L> JSON: {\n",
       "  \"data\": [\n",
       "    {\n",
       "      \"account_balance\": 0, \n",
       "      \"created\": 1497822803, \n",
       "      \"currency\": null, \n",
       "      \"default_source\": \"card_1AWBKhCb3EhrkhxxlaDkxLWO\", \n",
       "      \"delinquent\": false, \n",
       "      \"description\": null, \n",
       "      \"discount\": null, \n",
       "      \"email\": \"paying.user@example.com\", \n",
       "      \"id\": \"cus_ArvBbP6Ozo3uDn\", \n",
       "      \"livemode\": false, \n",
       "      \"metadata\": {}, \n",
       "      \"object\": \"customer\", \n",
       "      \"shipping\": null, \n",
       "      \"sources\": {\n",
       "        \"data\": [\n",
       "          {\n",
       "            \"address_city\": null, \n",
       "            \"address_country\": null, \n",
       "            \"address_line1\": null, \n",
       "            \"address_line1_check\": null, \n",
       "            \"address_line2\": null, \n",
       "            \"address_state\": null, \n",
       "            \"address_zip\": null, \n",
       "            \"address_zip_check\": null, \n",
       "            \"brand\": \"Visa\", \n",
       "            \"country\": \"US\", \n",
       "            \"customer\": \"cus_ArvBbP6Ozo3uDn\", \n",
       "            \"cvc_check\": null, \n",
       "            \"dynamic_last4\": null, \n",
       "            \"exp_month\": 8, \n",
       "            \"exp_year\": 2019, \n",
       "            \"fingerprint\": \"i8x29Zm03DEmdxeX\", \n",
       "            \"funding\": \"credit\", \n",
       "            \"id\": \"card_1AWBKhCb3EhrkhxxlaDkxLWO\", \n",
       "            \"last4\": \"4242\", \n",
       "            \"metadata\": {}, \n",
       "            \"name\": null, \n",
       "            \"object\": \"card\", \n",
       "            \"tokenization_method\": null\n",
       "          }\n",
       "        ], \n",
       "        \"has_more\": false, \n",
       "        \"object\": \"list\", \n",
       "        \"total_count\": 1, \n",
       "        \"url\": \"/v1/customers/cus_ArvBbP6Ozo3uDn/sources\"\n",
       "      }, \n",
       "      \"subscriptions\": {\n",
       "        \"data\": [], \n",
       "        \"has_more\": false, \n",
       "        \"object\": \"list\", \n",
       "        \"total_count\": 0, \n",
       "        \"url\": \"/v1/customers/cus_ArvBbP6Ozo3uDn/subscriptions\"\n",
       "      }\n",
       "    }\n",
       "  ], \n",
       "  \"has_more\": false, \n",
       "  \"object\": \"list\", \n",
       "  \"url\": \"/v1/customers\"\n",
       "}"
      ]
     },
     "execution_count": 10,
     "metadata": {},
     "output_type": "execute_result"
    }
   ],
   "source": [
    "stripe.Customer.list()"
   ]
  },
  {
   "cell_type": "code",
   "execution_count": 22,
   "metadata": {
    "collapsed": false
   },
   "outputs": [],
   "source": [
    "charge = stripe.Charge.create(\n",
    "  amount=2000,\n",
    "  currency=\"cad\",\n",
    "  customer = \"cus_ArvBbP6Ozo3uDn\",\n",
    "  description=\"Charge for mia.jackson@example.com\"\n",
    ")"
   ]
  },
  {
   "cell_type": "code",
   "execution_count": 67,
   "metadata": {
    "collapsed": false,
    "scrolled": false
   },
   "outputs": [
    {
     "ename": "InvalidRequestError",
     "evalue": "Request req_AsagS0l1nqbXj2: Received unknown parameter: source",
     "output_type": "error",
     "traceback": [
      "\u001b[1;31m\u001b[0m",
      "\u001b[1;31mInvalidRequestError\u001b[0mTraceback (most recent call last)",
      "\u001b[1;32m<ipython-input-67-ba9fe32637b8>\u001b[0m in \u001b[0;36m<module>\u001b[1;34m()\u001b[0m\n\u001b[0;32m      3\u001b[0m   \u001b[0mcurrency\u001b[0m\u001b[1;33m=\u001b[0m\u001b[1;34m\"usd\"\u001b[0m\u001b[1;33m,\u001b[0m\u001b[1;33m\u001b[0m\u001b[0m\n\u001b[0;32m      4\u001b[0m   \u001b[0mstripe_account\u001b[0m\u001b[1;33m=\u001b[0m\u001b[1;34m\"acct_1AWbgNAZR9SZuPtN\"\u001b[0m\u001b[1;33m,\u001b[0m\u001b[1;33m\u001b[0m\u001b[0m\n\u001b[1;32m----> 5\u001b[1;33m     \u001b[0msource\u001b[0m\u001b[1;33m=\u001b[0m\u001b[1;34m\"tok_bypassPending\"\u001b[0m\u001b[1;33m\u001b[0m\u001b[0m\n\u001b[0m\u001b[0;32m      6\u001b[0m \u001b[1;33m\u001b[0m\u001b[0m\n\u001b[0;32m      7\u001b[0m )\n",
      "\u001b[1;32mC:\\Anaconda2\\lib\\site-packages\\stripe\\resource.pyc\u001b[0m in \u001b[0;36mcreate\u001b[1;34m(cls, api_key, idempotency_key, stripe_account, **params)\u001b[0m\n\u001b[0;32m    464\u001b[0m         \u001b[0murl\u001b[0m \u001b[1;33m=\u001b[0m \u001b[0mcls\u001b[0m\u001b[1;33m.\u001b[0m\u001b[0mclass_url\u001b[0m\u001b[1;33m(\u001b[0m\u001b[1;33m)\u001b[0m\u001b[1;33m\u001b[0m\u001b[0m\n\u001b[0;32m    465\u001b[0m         \u001b[0mheaders\u001b[0m \u001b[1;33m=\u001b[0m \u001b[0mpopulate_headers\u001b[0m\u001b[1;33m(\u001b[0m\u001b[0midempotency_key\u001b[0m\u001b[1;33m)\u001b[0m\u001b[1;33m\u001b[0m\u001b[0m\n\u001b[1;32m--> 466\u001b[1;33m         \u001b[0mresponse\u001b[0m\u001b[1;33m,\u001b[0m \u001b[0mapi_key\u001b[0m \u001b[1;33m=\u001b[0m \u001b[0mrequestor\u001b[0m\u001b[1;33m.\u001b[0m\u001b[0mrequest\u001b[0m\u001b[1;33m(\u001b[0m\u001b[1;34m'post'\u001b[0m\u001b[1;33m,\u001b[0m \u001b[0murl\u001b[0m\u001b[1;33m,\u001b[0m \u001b[0mparams\u001b[0m\u001b[1;33m,\u001b[0m \u001b[0mheaders\u001b[0m\u001b[1;33m)\u001b[0m\u001b[1;33m\u001b[0m\u001b[0m\n\u001b[0m\u001b[0;32m    467\u001b[0m         \u001b[1;32mreturn\u001b[0m \u001b[0mconvert_to_stripe_object\u001b[0m\u001b[1;33m(\u001b[0m\u001b[0mresponse\u001b[0m\u001b[1;33m,\u001b[0m \u001b[0mapi_key\u001b[0m\u001b[1;33m,\u001b[0m \u001b[0mstripe_account\u001b[0m\u001b[1;33m)\u001b[0m\u001b[1;33m\u001b[0m\u001b[0m\n\u001b[0;32m    468\u001b[0m \u001b[1;33m\u001b[0m\u001b[0m\n",
      "\u001b[1;32mC:\\Anaconda2\\lib\\site-packages\\stripe\\api_requestor.pyc\u001b[0m in \u001b[0;36mrequest\u001b[1;34m(self, method, url, params, headers)\u001b[0m\n\u001b[0;32m    149\u001b[0m         rbody, rcode, rheaders, my_api_key = self.request_raw(\n\u001b[0;32m    150\u001b[0m             method.lower(), url, params, headers)\n\u001b[1;32m--> 151\u001b[1;33m         \u001b[0mresp\u001b[0m \u001b[1;33m=\u001b[0m \u001b[0mself\u001b[0m\u001b[1;33m.\u001b[0m\u001b[0minterpret_response\u001b[0m\u001b[1;33m(\u001b[0m\u001b[0mrbody\u001b[0m\u001b[1;33m,\u001b[0m \u001b[0mrcode\u001b[0m\u001b[1;33m,\u001b[0m \u001b[0mrheaders\u001b[0m\u001b[1;33m)\u001b[0m\u001b[1;33m\u001b[0m\u001b[0m\n\u001b[0m\u001b[0;32m    152\u001b[0m         \u001b[1;32mreturn\u001b[0m \u001b[0mresp\u001b[0m\u001b[1;33m,\u001b[0m \u001b[0mmy_api_key\u001b[0m\u001b[1;33m\u001b[0m\u001b[0m\n\u001b[0;32m    153\u001b[0m \u001b[1;33m\u001b[0m\u001b[0m\n",
      "\u001b[1;32mC:\\Anaconda2\\lib\\site-packages\\stripe\\api_requestor.pyc\u001b[0m in \u001b[0;36minterpret_response\u001b[1;34m(self, rbody, rcode, rheaders)\u001b[0m\n\u001b[0;32m    354\u001b[0m                 rbody, rcode, rheaders)\n\u001b[0;32m    355\u001b[0m         \u001b[1;32mif\u001b[0m \u001b[1;32mnot\u001b[0m \u001b[1;33m(\u001b[0m\u001b[1;36m200\u001b[0m \u001b[1;33m<=\u001b[0m \u001b[0mrcode\u001b[0m \u001b[1;33m<\u001b[0m \u001b[1;36m300\u001b[0m\u001b[1;33m)\u001b[0m\u001b[1;33m:\u001b[0m\u001b[1;33m\u001b[0m\u001b[0m\n\u001b[1;32m--> 356\u001b[1;33m             \u001b[0mself\u001b[0m\u001b[1;33m.\u001b[0m\u001b[0mhandle_error_response\u001b[0m\u001b[1;33m(\u001b[0m\u001b[0mrbody\u001b[0m\u001b[1;33m,\u001b[0m \u001b[0mrcode\u001b[0m\u001b[1;33m,\u001b[0m \u001b[0mresp\u001b[0m\u001b[1;33m,\u001b[0m \u001b[0mrheaders\u001b[0m\u001b[1;33m)\u001b[0m\u001b[1;33m\u001b[0m\u001b[0m\n\u001b[0m\u001b[0;32m    357\u001b[0m         \u001b[1;32mreturn\u001b[0m \u001b[0mresp\u001b[0m\u001b[1;33m\u001b[0m\u001b[0m\n\u001b[0;32m    358\u001b[0m \u001b[1;33m\u001b[0m\u001b[0m\n",
      "\u001b[1;32mC:\\Anaconda2\\lib\\site-packages\\stripe\\api_requestor.pyc\u001b[0m in \u001b[0;36mhandle_error_response\u001b[1;34m(self, rbody, rcode, resp, rheaders)\u001b[0m\n\u001b[0;32m    174\u001b[0m                 rbody, rcode, resp, rheaders, error_data)\n\u001b[0;32m    175\u001b[0m \u001b[1;33m\u001b[0m\u001b[0m\n\u001b[1;32m--> 176\u001b[1;33m         \u001b[1;32mraise\u001b[0m \u001b[0merr\u001b[0m\u001b[1;33m\u001b[0m\u001b[0m\n\u001b[0m\u001b[0;32m    177\u001b[0m \u001b[1;33m\u001b[0m\u001b[0m\n\u001b[0;32m    178\u001b[0m     \u001b[1;32mdef\u001b[0m \u001b[0mspecific_api_error\u001b[0m\u001b[1;33m(\u001b[0m\u001b[0mself\u001b[0m\u001b[1;33m,\u001b[0m \u001b[0mrbody\u001b[0m\u001b[1;33m,\u001b[0m \u001b[0mrcode\u001b[0m\u001b[1;33m,\u001b[0m \u001b[0mresp\u001b[0m\u001b[1;33m,\u001b[0m \u001b[0mrheaders\u001b[0m\u001b[1;33m,\u001b[0m \u001b[0merror_data\u001b[0m\u001b[1;33m)\u001b[0m\u001b[1;33m:\u001b[0m\u001b[1;33m\u001b[0m\u001b[0m\n",
      "\u001b[1;31mInvalidRequestError\u001b[0m: Request req_AsagS0l1nqbXj2: Received unknown parameter: source"
     ]
    }
   ],
   "source": [
    "stripe.Payout.create(\n",
    "  amount=200,\n",
    "  currency=\"usd\",\n",
    "  stripe_account=\"acct_1AWbgNAZR9SZuPtN\",\n",
    "    \n",
    "    \n",
    ")"
   ]
  },
  {
   "cell_type": "code",
   "execution_count": 63,
   "metadata": {
    "collapsed": false
   },
   "outputs": [
    {
     "data": {
      "text/plain": [
       "<Account account id=acct_1AWbgNAZR9SZuPtN at 0x42bd048L> JSON: {\n",
       "  \"business_logo\": null, \n",
       "  \"business_name\": null, \n",
       "  \"business_url\": null, \n",
       "  \"charges_enabled\": true, \n",
       "  \"country\": \"CA\", \n",
       "  \"debit_negative_balances\": false, \n",
       "  \"decline_charge_on\": {\n",
       "    \"avs_failure\": false, \n",
       "    \"cvc_failure\": false\n",
       "  }, \n",
       "  \"default_currency\": \"cad\", \n",
       "  \"details_submitted\": false, \n",
       "  \"display_name\": null, \n",
       "  \"email\": null, \n",
       "  \"external_accounts\": {\n",
       "    \"data\": [\n",
       "      {\n",
       "        \"account\": \"acct_1AWbgNAZR9SZuPtN\", \n",
       "        \"address_city\": null, \n",
       "        \"address_country\": null, \n",
       "        \"address_line1\": null, \n",
       "        \"address_line1_check\": null, \n",
       "        \"address_line2\": null, \n",
       "        \"address_state\": null, \n",
       "        \"address_zip\": null, \n",
       "        \"address_zip_check\": null, \n",
       "        \"available_payout_methods\": [\n",
       "          \"standard\", \n",
       "          \"instant\"\n",
       "        ], \n",
       "        \"brand\": \"Visa\", \n",
       "        \"country\": \"US\", \n",
       "        \"currency\": \"usd\", \n",
       "        \"cvc_check\": null, \n",
       "        \"default_for_currency\": true, \n",
       "        \"dynamic_last4\": null, \n",
       "        \"exp_month\": 8, \n",
       "        \"exp_year\": 2019, \n",
       "        \"fingerprint\": \"uePZDrn0YNkx74w6\", \n",
       "        \"funding\": \"debit\", \n",
       "        \"id\": \"card_1AWbmYAZR9SZuPtNpLvN3IIZ\", \n",
       "        \"last4\": \"5556\", \n",
       "        \"metadata\": {}, \n",
       "        \"name\": null, \n",
       "        \"object\": \"card\", \n",
       "        \"tokenization_method\": null\n",
       "      }\n",
       "    ], \n",
       "    \"has_more\": false, \n",
       "    \"object\": \"list\", \n",
       "    \"total_count\": 1, \n",
       "    \"url\": \"/v1/accounts/acct_1AWbgNAZR9SZuPtN/external_accounts\"\n",
       "  }, \n",
       "  \"id\": \"acct_1AWbgNAZR9SZuPtN\", \n",
       "  \"legal_entity\": {\n",
       "    \"address\": {\n",
       "      \"city\": null, \n",
       "      \"country\": \"CA\", \n",
       "      \"line1\": null, \n",
       "      \"line2\": null, \n",
       "      \"postal_code\": null, \n",
       "      \"state\": null\n",
       "    }, \n",
       "    \"business_name\": null, \n",
       "    \"business_tax_id_provided\": false, \n",
       "    \"dob\": {\n",
       "      \"day\": 24, \n",
       "      \"month\": 6, \n",
       "      \"year\": 1994\n",
       "    }, \n",
       "    \"first_name\": \"Eddie\", \n",
       "    \"last_name\": \"Chen\", \n",
       "    \"personal_address\": {\n",
       "      \"city\": null, \n",
       "      \"country\": \"CA\", \n",
       "      \"line1\": null, \n",
       "      \"line2\": null, \n",
       "      \"postal_code\": null, \n",
       "      \"state\": null\n",
       "    }, \n",
       "    \"personal_id_number_provided\": false, \n",
       "    \"type\": null, \n",
       "    \"verification\": {\n",
       "      \"details\": null, \n",
       "      \"details_code\": null, \n",
       "      \"document\": null, \n",
       "      \"status\": \"unverified\"\n",
       "    }\n",
       "  }, \n",
       "  \"metadata\": {}, \n",
       "  \"object\": \"account\", \n",
       "  \"payout_schedule\": {\n",
       "    \"delay_days\": 6, \n",
       "    \"interval\": \"manual\"\n",
       "  }, \n",
       "  \"payout_statement_descriptor\": null, \n",
       "  \"payouts_enabled\": true, \n",
       "  \"product_description\": null, \n",
       "  \"statement_descriptor\": null, \n",
       "  \"support_email\": null, \n",
       "  \"support_phone\": null, \n",
       "  \"timezone\": \"Etc/UTC\", \n",
       "  \"tos_acceptance\": {\n",
       "    \"date\": 1497924550, \n",
       "    \"ip\": \"8.8.8.8\", \n",
       "    \"user_agent\": null\n",
       "  }, \n",
       "  \"type\": \"custom\", \n",
       "  \"verification\": {\n",
       "    \"disabled_reason\": null, \n",
       "    \"due_by\": null, \n",
       "    \"fields_needed\": [\n",
       "      \"legal_entity.type\"\n",
       "    ]\n",
       "  }\n",
       "}"
      ]
     },
     "execution_count": 63,
     "metadata": {},
     "output_type": "execute_result"
    }
   ],
   "source": [
    "cust1 = stripe.Account.retrieve(\"acct_1AWbgNAZR9SZuPtN\")\n",
    "cust1.payout_schedule.interval = 'manual'\n",
    "cust1.save()"
   ]
  },
  {
   "cell_type": "code",
   "execution_count": 42,
   "metadata": {
    "collapsed": false
   },
   "outputs": [
    {
     "data": {
      "text/plain": [
       "[(u'support_phone', u'5197819061'),\n",
       " (u'business_name', u''),\n",
       " (u'business_url', u'goparkr.com'),\n",
       " (u'support_url', u''),\n",
       " (u'country', u'CA'),\n",
       " (u'object', u'account'),\n",
       " (u'business_logo', None),\n",
       " (u'charges_enabled', True),\n",
       " (u'support_email', u'parkrteam@gmail.com'),\n",
       " (u'details_submitted', True),\n",
       " (u'payouts_enabled', True),\n",
       " (u'email', u'parkrteam@gmail.com'),\n",
       " (u'timezone', u'America/Toronto'),\n",
       " (u'id', u'acct_1A1oszCb3Ehrkhxx'),\n",
       " (u'display_name', u'Parkr'),\n",
       " (u'support_address',\n",
       "  <StripeObject at 0x420ea68L> JSON: {\n",
       "  \"city\": \"\", \n",
       "  \"country\": \"CA\", \n",
       "  \"line1\": null, \n",
       "  \"line2\": null, \n",
       "  \"postal_code\": \"\", \n",
       "  \"state\": \"\"\n",
       "}),\n",
       " (u'type', u'standard'),\n",
       " (u'statement_descriptor', u'PARKR'),\n",
       " (u'default_currency', u'cad')]"
      ]
     },
     "execution_count": 42,
     "metadata": {},
     "output_type": "execute_result"
    }
   ],
   "source": [
    "myAcct.items()"
   ]
  },
  {
   "cell_type": "code",
   "execution_count": 69,
   "metadata": {
    "collapsed": false
   },
   "outputs": [
    {
     "ename": "AttributeError",
     "evalue": "external_account",
     "output_type": "error",
     "traceback": [
      "\u001b[1;31m\u001b[0m",
      "\u001b[1;31mAttributeError\u001b[0mTraceback (most recent call last)",
      "\u001b[1;32m<ipython-input-69-b60fb898031f>\u001b[0m in \u001b[0;36m<module>\u001b[1;34m()\u001b[0m\n\u001b[0;32m      1\u001b[0m \u001b[0mmyAcct\u001b[0m \u001b[1;33m=\u001b[0m \u001b[0mstripe\u001b[0m\u001b[1;33m.\u001b[0m\u001b[0mAccount\u001b[0m\u001b[1;33m.\u001b[0m\u001b[0mretrieve\u001b[0m\u001b[1;33m(\u001b[0m\u001b[1;34m\"acct_1A1oszCb3Ehrkhxx\"\u001b[0m\u001b[1;33m)\u001b[0m\u001b[1;33m\u001b[0m\u001b[0m\n\u001b[1;32m----> 2\u001b[1;33m \u001b[0mmyAcct\u001b[0m\u001b[1;33m.\u001b[0m\u001b[0mexternal_account\u001b[0m\u001b[1;33m.\u001b[0m\u001b[0mcreate\u001b[0m\u001b[1;33m(\u001b[0m\u001b[0mexternal_account\u001b[0m\u001b[1;33m=\u001b[0m\u001b[1;34m\"tok_bypassPending\"\u001b[0m\u001b[1;33m)\u001b[0m\u001b[1;33m\u001b[0m\u001b[0m\n\u001b[0m",
      "\u001b[1;32mC:\\Anaconda2\\lib\\site-packages\\stripe\\resource.pyc\u001b[0m in \u001b[0;36m__getattr__\u001b[1;34m(self, k)\u001b[0m\n\u001b[0;32m    138\u001b[0m             \u001b[1;32mreturn\u001b[0m \u001b[0mself\u001b[0m\u001b[1;33m[\u001b[0m\u001b[0mk\u001b[0m\u001b[1;33m]\u001b[0m\u001b[1;33m\u001b[0m\u001b[0m\n\u001b[0;32m    139\u001b[0m         \u001b[1;32mexcept\u001b[0m \u001b[0mKeyError\u001b[0m \u001b[1;32mas\u001b[0m \u001b[0merr\u001b[0m\u001b[1;33m:\u001b[0m\u001b[1;33m\u001b[0m\u001b[0m\n\u001b[1;32m--> 140\u001b[1;33m             \u001b[1;32mraise\u001b[0m \u001b[0mAttributeError\u001b[0m\u001b[1;33m(\u001b[0m\u001b[1;33m*\u001b[0m\u001b[0merr\u001b[0m\u001b[1;33m.\u001b[0m\u001b[0margs\u001b[0m\u001b[1;33m)\u001b[0m\u001b[1;33m\u001b[0m\u001b[0m\n\u001b[0m\u001b[0;32m    141\u001b[0m \u001b[1;33m\u001b[0m\u001b[0m\n\u001b[0;32m    142\u001b[0m     \u001b[1;32mdef\u001b[0m \u001b[0m__delattr__\u001b[0m\u001b[1;33m(\u001b[0m\u001b[0mself\u001b[0m\u001b[1;33m,\u001b[0m \u001b[0mk\u001b[0m\u001b[1;33m)\u001b[0m\u001b[1;33m:\u001b[0m\u001b[1;33m\u001b[0m\u001b[0m\n",
      "\u001b[1;31mAttributeError\u001b[0m: external_account"
     ]
    }
   ],
   "source": [
    "myAcct = stripe.Account.retrieve(\"acct_1A1oszCb3Ehrkhxx\")\n",
    "myAcct.external_account.create(external_account=\"tok_bypassPending\")"
   ]
  },
  {
   "cell_type": "code",
   "execution_count": 70,
   "metadata": {
    "collapsed": false
   },
   "outputs": [
    {
     "data": {
      "text/plain": [
       "<Account account id=acct_1A1oszCb3Ehrkhxx at 0x41efa68L> JSON: {\n",
       "  \"business_logo\": null, \n",
       "  \"business_name\": \"\", \n",
       "  \"business_url\": \"goparkr.com\", \n",
       "  \"charges_enabled\": true, \n",
       "  \"country\": \"CA\", \n",
       "  \"default_currency\": \"cad\", \n",
       "  \"details_submitted\": true, \n",
       "  \"display_name\": \"Parkr\", \n",
       "  \"email\": \"parkrteam@gmail.com\", \n",
       "  \"id\": \"acct_1A1oszCb3Ehrkhxx\", \n",
       "  \"object\": \"account\", \n",
       "  \"payouts_enabled\": true, \n",
       "  \"statement_descriptor\": \"PARKR\", \n",
       "  \"support_address\": {\n",
       "    \"city\": \"\", \n",
       "    \"country\": \"CA\", \n",
       "    \"line1\": null, \n",
       "    \"line2\": null, \n",
       "    \"postal_code\": \"\", \n",
       "    \"state\": \"\"\n",
       "  }, \n",
       "  \"support_email\": \"parkrteam@gmail.com\", \n",
       "  \"support_phone\": \"5197819061\", \n",
       "  \"support_url\": \"\", \n",
       "  \"timezone\": \"America/Toronto\", \n",
       "  \"type\": \"standard\"\n",
       "}"
      ]
     },
     "execution_count": 70,
     "metadata": {},
     "output_type": "execute_result"
    }
   ],
   "source": [
    "myAcct"
   ]
  },
  {
   "cell_type": "code",
   "execution_count": null,
   "metadata": {
    "collapsed": true
   },
   "outputs": [],
   "source": []
  }
 ],
 "metadata": {
  "anaconda-cloud": {},
  "kernelspec": {
   "display_name": "Python [Root]",
   "language": "python",
   "name": "Python [Root]"
  },
  "language_info": {
   "codemirror_mode": {
    "name": "ipython",
    "version": 2
   },
   "file_extension": ".py",
   "mimetype": "text/x-python",
   "name": "python",
   "nbconvert_exporter": "python",
   "pygments_lexer": "ipython2",
   "version": "2.7.12"
  }
 },
 "nbformat": 4,
 "nbformat_minor": 0
}
