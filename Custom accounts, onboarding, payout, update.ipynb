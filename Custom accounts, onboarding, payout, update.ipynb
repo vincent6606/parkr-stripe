{
 "cells": [
  {
   "cell_type": "code",
   "execution_count": 2,
   "metadata": {
    "collapsed": false
   },
   "outputs": [
    {
     "name": "stdout",
     "output_type": "stream",
     "text": [
      "Collecting stripe\n",
      "  Downloading stripe-1.59.0-py2-none-any.whl (207kB)\n",
      "Requirement already satisfied (use --upgrade to upgrade): requests>=0.8.8 in c:\\anaconda2\\lib\\site-packages (from stripe)\n",
      "Installing collected packages: stripe\n",
      "Successfully installed stripe-1.59.0\n"
     ]
    },
    {
     "name": "stderr",
     "output_type": "stream",
     "text": [
      "You are using pip version 8.1.2, however version 9.0.1 is available.\n",
      "You should consider upgrading via the 'python -m pip install --upgrade pip' command.\n"
     ]
    }
   ],
   "source": [
    "!pip install stripe"
   ]
  },
  {
   "cell_type": "code",
   "execution_count": 3,
   "metadata": {
    "collapsed": true
   },
   "outputs": [],
   "source": [
    "import stripe"
   ]
  },
  {
   "cell_type": "code",
   "execution_count": 4,
   "metadata": {
    "collapsed": false,
    "scrolled": true
   },
   "outputs": [],
   "source": [
    "stripe.api_key = \"sk_test_lzKZJyFzGwbDDV89AMAx7jVs\""
   ]
  },
  {
   "cell_type": "code",
   "execution_count": 4,
   "metadata": {
    "collapsed": false
   },
   "outputs": [],
   "source": [
    "#Just neeed to save the connected account's id\n",
    "\n",
    "#create a new Connected account on behalf of the owner\n",
    "acct = stripe.Account.create(\n",
    "    country = \"CA\",\n",
    "    type = \"custom\"\n",
    "\n",
    "\n",
    ")"
   ]
  },
  {
   "cell_type": "markdown",
   "metadata": {},
   "source": [
    "### \"In most cases we are able to move forward with the account owners name, and last 4 digits of their SSN\" You also need a token or bank account information to payout user"
   ]
  },
  {
   "cell_type": "code",
   "execution_count": 39,
   "metadata": {
    "collapsed": true
   },
   "outputs": [],
   "source": [
    "#Verification is done through stages, high amounts require more stages\n",
    "#Look at these entries for more verification\n",
    "#https://stripe.com/docs/connect/required-verification-information"
   ]
  },
  {
   "cell_type": "code",
   "execution_count": 5,
   "metadata": {
    "collapsed": false
   },
   "outputs": [],
   "source": [
    "acct = stripe.Account.retrieve(\"acct_1AWnpvB0VLJp2HWv\")"
   ]
  },
  {
   "cell_type": "code",
   "execution_count": 6,
   "metadata": {
    "collapsed": false
   },
   "outputs": [],
   "source": [
    "#Check whether the account has payouts enabled\n",
    "acct.legal_entity.last_name = \"Chen\"\n",
    "acct.legal_entity.first_name = \"Jenny\"\n",
    "acct.external_account = \"tok_visa_debit\""
   ]
  },
  {
   "cell_type": "code",
   "execution_count": 7,
   "metadata": {
    "collapsed": false
   },
   "outputs": [
    {
     "data": {
      "text/plain": [
       "<Account account id=acct_1AWnpvB0VLJp2HWv at 0x3fc7828L> JSON: {\n",
       "  \"business_logo\": null, \n",
       "  \"business_name\": null, \n",
       "  \"business_url\": null, \n",
       "  \"charges_enabled\": true, \n",
       "  \"country\": \"CA\", \n",
       "  \"debit_negative_balances\": false, \n",
       "  \"decline_charge_on\": {\n",
       "    \"avs_failure\": false, \n",
       "    \"cvc_failure\": false\n",
       "  }, \n",
       "  \"default_currency\": \"cad\", \n",
       "  \"details_submitted\": false, \n",
       "  \"display_name\": null, \n",
       "  \"email\": null, \n",
       "  \"external_accounts\": {\n",
       "    \"data\": [\n",
       "      {\n",
       "        \"account\": \"acct_1AWnpvB0VLJp2HWv\", \n",
       "        \"address_city\": null, \n",
       "        \"address_country\": null, \n",
       "        \"address_line1\": null, \n",
       "        \"address_line1_check\": null, \n",
       "        \"address_line2\": null, \n",
       "        \"address_state\": null, \n",
       "        \"address_zip\": null, \n",
       "        \"address_zip_check\": null, \n",
       "        \"available_payout_methods\": [\n",
       "          \"standard\", \n",
       "          \"instant\"\n",
       "        ], \n",
       "        \"brand\": \"Visa\", \n",
       "        \"country\": \"US\", \n",
       "        \"currency\": \"usd\", \n",
       "        \"cvc_check\": null, \n",
       "        \"default_for_currency\": true, \n",
       "        \"dynamic_last4\": null, \n",
       "        \"exp_month\": 8, \n",
       "        \"exp_year\": 2019, \n",
       "        \"fingerprint\": \"MRBtYn4NOnDVTRVx\", \n",
       "        \"funding\": \"debit\", \n",
       "        \"id\": \"card_1AWnqbB0VLJp2HWvTYa8kRsH\", \n",
       "        \"last4\": \"5556\", \n",
       "        \"metadata\": {}, \n",
       "        \"name\": null, \n",
       "        \"object\": \"card\", \n",
       "        \"tokenization_method\": null\n",
       "      }\n",
       "    ], \n",
       "    \"has_more\": false, \n",
       "    \"object\": \"list\", \n",
       "    \"total_count\": 1, \n",
       "    \"url\": \"/v1/accounts/acct_1AWnpvB0VLJp2HWv/external_accounts\"\n",
       "  }, \n",
       "  \"id\": \"acct_1AWnpvB0VLJp2HWv\", \n",
       "  \"legal_entity\": {\n",
       "    \"address\": {\n",
       "      \"city\": null, \n",
       "      \"country\": \"CA\", \n",
       "      \"line1\": null, \n",
       "      \"line2\": null, \n",
       "      \"postal_code\": null, \n",
       "      \"state\": null\n",
       "    }, \n",
       "    \"business_name\": null, \n",
       "    \"business_tax_id_provided\": false, \n",
       "    \"dob\": {\n",
       "      \"day\": 24, \n",
       "      \"month\": 6, \n",
       "      \"year\": 1994\n",
       "    }, \n",
       "    \"first_name\": \"Jenny\", \n",
       "    \"last_name\": \"Chen\", \n",
       "    \"personal_address\": {\n",
       "      \"city\": null, \n",
       "      \"country\": \"CA\", \n",
       "      \"line1\": null, \n",
       "      \"line2\": null, \n",
       "      \"postal_code\": null, \n",
       "      \"state\": null\n",
       "    }, \n",
       "    \"personal_id_number_provided\": false, \n",
       "    \"type\": null, \n",
       "    \"verification\": {\n",
       "      \"details\": null, \n",
       "      \"details_code\": null, \n",
       "      \"document\": null, \n",
       "      \"status\": \"unverified\"\n",
       "    }\n",
       "  }, \n",
       "  \"metadata\": {}, \n",
       "  \"object\": \"account\", \n",
       "  \"payout_schedule\": {\n",
       "    \"delay_days\": 7, \n",
       "    \"interval\": \"daily\"\n",
       "  }, \n",
       "  \"payout_statement_descriptor\": null, \n",
       "  \"payouts_enabled\": true, \n",
       "  \"product_description\": null, \n",
       "  \"statement_descriptor\": null, \n",
       "  \"support_email\": null, \n",
       "  \"support_phone\": null, \n",
       "  \"timezone\": \"Etc/UTC\", \n",
       "  \"tos_acceptance\": {\n",
       "    \"date\": 1497970852, \n",
       "    \"ip\": \"8.8.8.8\", \n",
       "    \"user_agent\": null\n",
       "  }, \n",
       "  \"type\": \"custom\", \n",
       "  \"verification\": {\n",
       "    \"disabled_reason\": null, \n",
       "    \"due_by\": null, \n",
       "    \"fields_needed\": [\n",
       "      \"legal_entity.type\"\n",
       "    ]\n",
       "  }\n",
       "}"
      ]
     },
     "execution_count": 7,
     "metadata": {},
     "output_type": "execute_result"
    }
   ],
   "source": [
    "acct.legal_entity.dob.day = 24\n",
    "acct.legal_entity.dob.month = 6\n",
    "acct.legal_entity.dob.year = 1994\n",
    "#User must agree to terms to enable payouts\n",
    "import time\n",
    "acct.tos_acceptance.date = int(time.time())\n",
    "acct.tos_acceptance.ip = '8.8.8.8' # Depends on what web framework you're using\n",
    "acct.save()"
   ]
  },
  {
   "cell_type": "code",
   "execution_count": 37,
   "metadata": {
    "collapsed": true
   },
   "outputs": [],
   "source": [
    "# from flask import request\n",
    "# request.environ.get('HTTP_X_REAL_IP', request.remote_addr)"
   ]
  },
  {
   "cell_type": "code",
   "execution_count": 11,
   "metadata": {
    "collapsed": false,
    "scrolled": false
   },
   "outputs": [
    {
     "data": {
      "text/plain": [
       "<Account account id=acct_1A1oszCb3Ehrkhxx at 0x40ca708L> JSON: {\n",
       "  \"business_logo\": null, \n",
       "  \"business_name\": \"\", \n",
       "  \"business_url\": \"goparkr.com\", \n",
       "  \"charges_enabled\": true, \n",
       "  \"country\": \"CA\", \n",
       "  \"default_currency\": \"cad\", \n",
       "  \"details_submitted\": true, \n",
       "  \"display_name\": \"Parkr\", \n",
       "  \"email\": \"parkrteam@gmail.com\", \n",
       "  \"id\": \"acct_1A1oszCb3Ehrkhxx\", \n",
       "  \"object\": \"account\", \n",
       "  \"payouts_enabled\": true, \n",
       "  \"statement_descriptor\": \"PARKR\", \n",
       "  \"support_address\": {\n",
       "    \"city\": \"\", \n",
       "    \"country\": \"CA\", \n",
       "    \"line1\": null, \n",
       "    \"line2\": null, \n",
       "    \"postal_code\": \"\", \n",
       "    \"state\": \"\"\n",
       "  }, \n",
       "  \"support_email\": \"parkrteam@gmail.com\", \n",
       "  \"support_phone\": \"5197819061\", \n",
       "  \"support_url\": \"\", \n",
       "  \"timezone\": \"America/Toronto\", \n",
       "  \"type\": \"standard\"\n",
       "}"
      ]
     },
     "execution_count": 11,
     "metadata": {},
     "output_type": "execute_result"
    }
   ],
   "source": [
    "stripe.Account.retrieve(\"acct_1A1oszCb3Ehrkhxx\")"
   ]
  },
  {
   "cell_type": "code",
   "execution_count": 17,
   "metadata": {
    "collapsed": false
   },
   "outputs": [
    {
     "data": {
      "text/plain": [
       "<Balance balance at 0x40cab88L> JSON: {\n",
       "  \"available\": [\n",
       "    {\n",
       "      \"amount\": 9580, \n",
       "      \"currency\": \"cad\", \n",
       "      \"source_types\": {\n",
       "        \"card\": 9580\n",
       "      }\n",
       "    }\n",
       "  ], \n",
       "  \"connect_reserved\": [\n",
       "    {\n",
       "      \"amount\": 0, \n",
       "      \"currency\": \"cad\"\n",
       "    }\n",
       "  ], \n",
       "  \"livemode\": false, \n",
       "  \"object\": \"balance\", \n",
       "  \"pending\": [\n",
       "    {\n",
       "      \"amount\": 10384, \n",
       "      \"currency\": \"cad\", \n",
       "      \"source_types\": {\n",
       "        \"card\": 10384\n",
       "      }\n",
       "    }\n",
       "  ]\n",
       "}"
      ]
     },
     "execution_count": 17,
     "metadata": {},
     "output_type": "execute_result"
    }
   ],
   "source": [
    "stripe.Balance.retrieve()"
   ]
  },
  {
   "cell_type": "code",
   "execution_count": 6,
   "metadata": {
    "collapsed": false
   },
   "outputs": [
    {
     "data": {
      "text/plain": [
       "<ListObject list at 0x3f48ee8L> JSON: {\n",
       "  \"data\": [\n",
       "    {\n",
       "      \"account_balance\": 0, \n",
       "      \"created\": 1497822803, \n",
       "      \"currency\": null, \n",
       "      \"default_source\": \"card_1AWBKhCb3EhrkhxxlaDkxLWO\", \n",
       "      \"delinquent\": false, \n",
       "      \"description\": null, \n",
       "      \"discount\": null, \n",
       "      \"email\": \"paying.user@example.com\", \n",
       "      \"id\": \"cus_ArvBbP6Ozo3uDn\", \n",
       "      \"livemode\": false, \n",
       "      \"metadata\": {}, \n",
       "      \"object\": \"customer\", \n",
       "      \"shipping\": null, \n",
       "      \"sources\": {\n",
       "        \"data\": [\n",
       "          {\n",
       "            \"address_city\": null, \n",
       "            \"address_country\": null, \n",
       "            \"address_line1\": null, \n",
       "            \"address_line1_check\": null, \n",
       "            \"address_line2\": null, \n",
       "            \"address_state\": null, \n",
       "            \"address_zip\": null, \n",
       "            \"address_zip_check\": null, \n",
       "            \"brand\": \"Visa\", \n",
       "            \"country\": \"US\", \n",
       "            \"customer\": \"cus_ArvBbP6Ozo3uDn\", \n",
       "            \"cvc_check\": null, \n",
       "            \"dynamic_last4\": null, \n",
       "            \"exp_month\": 8, \n",
       "            \"exp_year\": 2019, \n",
       "            \"fingerprint\": \"i8x29Zm03DEmdxeX\", \n",
       "            \"funding\": \"credit\", \n",
       "            \"id\": \"card_1AWBKhCb3EhrkhxxlaDkxLWO\", \n",
       "            \"last4\": \"4242\", \n",
       "            \"metadata\": {}, \n",
       "            \"name\": null, \n",
       "            \"object\": \"card\", \n",
       "            \"tokenization_method\": null\n",
       "          }\n",
       "        ], \n",
       "        \"has_more\": false, \n",
       "        \"object\": \"list\", \n",
       "        \"total_count\": 1, \n",
       "        \"url\": \"/v1/customers/cus_ArvBbP6Ozo3uDn/sources\"\n",
       "      }, \n",
       "      \"subscriptions\": {\n",
       "        \"data\": [], \n",
       "        \"has_more\": false, \n",
       "        \"object\": \"list\", \n",
       "        \"total_count\": 0, \n",
       "        \"url\": \"/v1/customers/cus_ArvBbP6Ozo3uDn/subscriptions\"\n",
       "      }\n",
       "    }\n",
       "  ], \n",
       "  \"has_more\": false, \n",
       "  \"object\": \"list\", \n",
       "  \"url\": \"/v1/customers\"\n",
       "}"
      ]
     },
     "execution_count": 6,
     "metadata": {},
     "output_type": "execute_result"
    }
   ],
   "source": [
    "stripe.Customer.list()"
   ]
  },
  {
   "cell_type": "code",
   "execution_count": 42,
   "metadata": {
    "collapsed": false
   },
   "outputs": [],
   "source": [
    "charge = stripe.Charge.create(\n",
    "  amount=10000,\n",
    "  currency=\"usd\",\n",
    "  source = \"tok_bypassPending\",\n",
    "  description=\"Charge for mia.jackson@example.com\"\n",
    ")"
   ]
  },
  {
   "cell_type": "code",
   "execution_count": 37,
   "metadata": {
    "collapsed": false
   },
   "outputs": [
    {
     "data": {
      "text/plain": [
       "<Account account id=acct_1AWbgNAZR9SZuPtN at 0x4151b88L> JSON: {\n",
       "  \"business_logo\": null, \n",
       "  \"business_name\": null, \n",
       "  \"business_url\": null, \n",
       "  \"charges_enabled\": true, \n",
       "  \"country\": \"CA\", \n",
       "  \"debit_negative_balances\": false, \n",
       "  \"decline_charge_on\": {\n",
       "    \"avs_failure\": false, \n",
       "    \"cvc_failure\": false\n",
       "  }, \n",
       "  \"default_currency\": \"cad\", \n",
       "  \"details_submitted\": false, \n",
       "  \"display_name\": null, \n",
       "  \"email\": null, \n",
       "  \"external_accounts\": {\n",
       "    \"data\": [\n",
       "      {\n",
       "        \"account\": \"acct_1AWbgNAZR9SZuPtN\", \n",
       "        \"address_city\": null, \n",
       "        \"address_country\": null, \n",
       "        \"address_line1\": null, \n",
       "        \"address_line1_check\": null, \n",
       "        \"address_line2\": null, \n",
       "        \"address_state\": null, \n",
       "        \"address_zip\": null, \n",
       "        \"address_zip_check\": null, \n",
       "        \"available_payout_methods\": [\n",
       "          \"standard\", \n",
       "          \"instant\"\n",
       "        ], \n",
       "        \"brand\": \"Visa\", \n",
       "        \"country\": \"US\", \n",
       "        \"currency\": \"usd\", \n",
       "        \"cvc_check\": null, \n",
       "        \"default_for_currency\": true, \n",
       "        \"dynamic_last4\": null, \n",
       "        \"exp_month\": 8, \n",
       "        \"exp_year\": 2019, \n",
       "        \"fingerprint\": \"uePZDrn0YNkx74w6\", \n",
       "        \"funding\": \"debit\", \n",
       "        \"id\": \"card_1AWbmYAZR9SZuPtNpLvN3IIZ\", \n",
       "        \"last4\": \"5556\", \n",
       "        \"metadata\": {}, \n",
       "        \"name\": null, \n",
       "        \"object\": \"card\", \n",
       "        \"tokenization_method\": null\n",
       "      }\n",
       "    ], \n",
       "    \"has_more\": false, \n",
       "    \"object\": \"list\", \n",
       "    \"total_count\": 1, \n",
       "    \"url\": \"/v1/accounts/acct_1AWbgNAZR9SZuPtN/external_accounts\"\n",
       "  }, \n",
       "  \"id\": \"acct_1AWbgNAZR9SZuPtN\", \n",
       "  \"legal_entity\": {\n",
       "    \"address\": {\n",
       "      \"city\": null, \n",
       "      \"country\": \"CA\", \n",
       "      \"line1\": null, \n",
       "      \"line2\": null, \n",
       "      \"postal_code\": null, \n",
       "      \"state\": null\n",
       "    }, \n",
       "    \"business_name\": null, \n",
       "    \"business_tax_id_provided\": false, \n",
       "    \"dob\": {\n",
       "      \"day\": 24, \n",
       "      \"month\": 6, \n",
       "      \"year\": 1994\n",
       "    }, \n",
       "    \"first_name\": \"Eddie\", \n",
       "    \"last_name\": \"Chen\", \n",
       "    \"personal_address\": {\n",
       "      \"city\": null, \n",
       "      \"country\": \"CA\", \n",
       "      \"line1\": null, \n",
       "      \"line2\": null, \n",
       "      \"postal_code\": null, \n",
       "      \"state\": null\n",
       "    }, \n",
       "    \"personal_id_number_provided\": false, \n",
       "    \"type\": null, \n",
       "    \"verification\": {\n",
       "      \"details\": null, \n",
       "      \"details_code\": null, \n",
       "      \"document\": null, \n",
       "      \"status\": \"unverified\"\n",
       "    }\n",
       "  }, \n",
       "  \"metadata\": {}, \n",
       "  \"object\": \"account\", \n",
       "  \"payout_schedule\": {\n",
       "    \"delay_days\": 6, \n",
       "    \"interval\": \"manual\"\n",
       "  }, \n",
       "  \"payout_statement_descriptor\": null, \n",
       "  \"payouts_enabled\": true, \n",
       "  \"product_description\": null, \n",
       "  \"statement_descriptor\": null, \n",
       "  \"support_email\": null, \n",
       "  \"support_phone\": null, \n",
       "  \"timezone\": \"Etc/UTC\", \n",
       "  \"tos_acceptance\": {\n",
       "    \"date\": 1497924550, \n",
       "    \"ip\": \"8.8.8.8\", \n",
       "    \"user_agent\": null\n",
       "  }, \n",
       "  \"type\": \"custom\", \n",
       "  \"verification\": {\n",
       "    \"disabled_reason\": null, \n",
       "    \"due_by\": null, \n",
       "    \"fields_needed\": [\n",
       "      \"legal_entity.type\"\n",
       "    ]\n",
       "  }\n",
       "}"
      ]
     },
     "execution_count": 37,
     "metadata": {},
     "output_type": "execute_result"
    }
   ],
   "source": [
    "owner1 = stripe.Account.retrieve(\"acct_1AWbgNAZR9SZuPtN\")\n",
    "owner1"
   ]
  },
  {
   "cell_type": "code",
   "execution_count": 67,
   "metadata": {
    "collapsed": false,
    "scrolled": false
   },
   "outputs": [
    {
     "ename": "InvalidRequestError",
     "evalue": "Request req_Asg9Vt9aE1h5nt: Insufficient funds in Stripe account. In test mode, you can add funds to your available balance (bypassing your pending balance) by creating a charge with 4000 0000 0000 0077 as the card number.   You can use the the /v1/balance endpoint to view your Stripe balance (for more details, see stripe.com/docs/api#balance).",
     "output_type": "error",
     "traceback": [
      "\u001b[1;31m\u001b[0m",
      "\u001b[1;31mInvalidRequestError\u001b[0mTraceback (most recent call last)",
      "\u001b[1;32m<ipython-input-67-4f53ad020a1f>\u001b[0m in \u001b[0;36m<module>\u001b[1;34m()\u001b[0m\n\u001b[0;32m      4\u001b[0m   \u001b[0mamount\u001b[0m\u001b[1;33m=\u001b[0m\u001b[1;36m23\u001b[0m\u001b[1;33m,\u001b[0m\u001b[1;33m\u001b[0m\u001b[0m\n\u001b[0;32m      5\u001b[0m   \u001b[0mcurrency\u001b[0m\u001b[1;33m=\u001b[0m\u001b[1;34m\"usd\"\u001b[0m\u001b[1;33m,\u001b[0m\u001b[1;33m\u001b[0m\u001b[0m\n\u001b[1;32m----> 6\u001b[1;33m   \u001b[0mstripe_account\u001b[0m\u001b[1;33m=\u001b[0m\u001b[1;34m\"acct_1AWnpvB0VLJp2HWv\"\u001b[0m\u001b[1;33m,\u001b[0m\u001b[1;33m\u001b[0m\u001b[0m\n\u001b[0m\u001b[0;32m      7\u001b[0m )\n",
      "\u001b[1;32mC:\\Anaconda2\\lib\\site-packages\\stripe\\resource.pyc\u001b[0m in \u001b[0;36mcreate\u001b[1;34m(cls, api_key, idempotency_key, stripe_account, **params)\u001b[0m\n\u001b[0;32m    464\u001b[0m         \u001b[0murl\u001b[0m \u001b[1;33m=\u001b[0m \u001b[0mcls\u001b[0m\u001b[1;33m.\u001b[0m\u001b[0mclass_url\u001b[0m\u001b[1;33m(\u001b[0m\u001b[1;33m)\u001b[0m\u001b[1;33m\u001b[0m\u001b[0m\n\u001b[0;32m    465\u001b[0m         \u001b[0mheaders\u001b[0m \u001b[1;33m=\u001b[0m \u001b[0mpopulate_headers\u001b[0m\u001b[1;33m(\u001b[0m\u001b[0midempotency_key\u001b[0m\u001b[1;33m)\u001b[0m\u001b[1;33m\u001b[0m\u001b[0m\n\u001b[1;32m--> 466\u001b[1;33m         \u001b[0mresponse\u001b[0m\u001b[1;33m,\u001b[0m \u001b[0mapi_key\u001b[0m \u001b[1;33m=\u001b[0m \u001b[0mrequestor\u001b[0m\u001b[1;33m.\u001b[0m\u001b[0mrequest\u001b[0m\u001b[1;33m(\u001b[0m\u001b[1;34m'post'\u001b[0m\u001b[1;33m,\u001b[0m \u001b[0murl\u001b[0m\u001b[1;33m,\u001b[0m \u001b[0mparams\u001b[0m\u001b[1;33m,\u001b[0m \u001b[0mheaders\u001b[0m\u001b[1;33m)\u001b[0m\u001b[1;33m\u001b[0m\u001b[0m\n\u001b[0m\u001b[0;32m    467\u001b[0m         \u001b[1;32mreturn\u001b[0m \u001b[0mconvert_to_stripe_object\u001b[0m\u001b[1;33m(\u001b[0m\u001b[0mresponse\u001b[0m\u001b[1;33m,\u001b[0m \u001b[0mapi_key\u001b[0m\u001b[1;33m,\u001b[0m \u001b[0mstripe_account\u001b[0m\u001b[1;33m)\u001b[0m\u001b[1;33m\u001b[0m\u001b[0m\n\u001b[0;32m    468\u001b[0m \u001b[1;33m\u001b[0m\u001b[0m\n",
      "\u001b[1;32mC:\\Anaconda2\\lib\\site-packages\\stripe\\api_requestor.pyc\u001b[0m in \u001b[0;36mrequest\u001b[1;34m(self, method, url, params, headers)\u001b[0m\n\u001b[0;32m    149\u001b[0m         rbody, rcode, rheaders, my_api_key = self.request_raw(\n\u001b[0;32m    150\u001b[0m             method.lower(), url, params, headers)\n\u001b[1;32m--> 151\u001b[1;33m         \u001b[0mresp\u001b[0m \u001b[1;33m=\u001b[0m \u001b[0mself\u001b[0m\u001b[1;33m.\u001b[0m\u001b[0minterpret_response\u001b[0m\u001b[1;33m(\u001b[0m\u001b[0mrbody\u001b[0m\u001b[1;33m,\u001b[0m \u001b[0mrcode\u001b[0m\u001b[1;33m,\u001b[0m \u001b[0mrheaders\u001b[0m\u001b[1;33m)\u001b[0m\u001b[1;33m\u001b[0m\u001b[0m\n\u001b[0m\u001b[0;32m    152\u001b[0m         \u001b[1;32mreturn\u001b[0m \u001b[0mresp\u001b[0m\u001b[1;33m,\u001b[0m \u001b[0mmy_api_key\u001b[0m\u001b[1;33m\u001b[0m\u001b[0m\n\u001b[0;32m    153\u001b[0m \u001b[1;33m\u001b[0m\u001b[0m\n",
      "\u001b[1;32mC:\\Anaconda2\\lib\\site-packages\\stripe\\api_requestor.pyc\u001b[0m in \u001b[0;36minterpret_response\u001b[1;34m(self, rbody, rcode, rheaders)\u001b[0m\n\u001b[0;32m    354\u001b[0m                 rbody, rcode, rheaders)\n\u001b[0;32m    355\u001b[0m         \u001b[1;32mif\u001b[0m \u001b[1;32mnot\u001b[0m \u001b[1;33m(\u001b[0m\u001b[1;36m200\u001b[0m \u001b[1;33m<=\u001b[0m \u001b[0mrcode\u001b[0m \u001b[1;33m<\u001b[0m \u001b[1;36m300\u001b[0m\u001b[1;33m)\u001b[0m\u001b[1;33m:\u001b[0m\u001b[1;33m\u001b[0m\u001b[0m\n\u001b[1;32m--> 356\u001b[1;33m             \u001b[0mself\u001b[0m\u001b[1;33m.\u001b[0m\u001b[0mhandle_error_response\u001b[0m\u001b[1;33m(\u001b[0m\u001b[0mrbody\u001b[0m\u001b[1;33m,\u001b[0m \u001b[0mrcode\u001b[0m\u001b[1;33m,\u001b[0m \u001b[0mresp\u001b[0m\u001b[1;33m,\u001b[0m \u001b[0mrheaders\u001b[0m\u001b[1;33m)\u001b[0m\u001b[1;33m\u001b[0m\u001b[0m\n\u001b[0m\u001b[0;32m    357\u001b[0m         \u001b[1;32mreturn\u001b[0m \u001b[0mresp\u001b[0m\u001b[1;33m\u001b[0m\u001b[0m\n\u001b[0;32m    358\u001b[0m \u001b[1;33m\u001b[0m\u001b[0m\n",
      "\u001b[1;32mC:\\Anaconda2\\lib\\site-packages\\stripe\\api_requestor.pyc\u001b[0m in \u001b[0;36mhandle_error_response\u001b[1;34m(self, rbody, rcode, resp, rheaders)\u001b[0m\n\u001b[0;32m    174\u001b[0m                 rbody, rcode, resp, rheaders, error_data)\n\u001b[0;32m    175\u001b[0m \u001b[1;33m\u001b[0m\u001b[0m\n\u001b[1;32m--> 176\u001b[1;33m         \u001b[1;32mraise\u001b[0m \u001b[0merr\u001b[0m\u001b[1;33m\u001b[0m\u001b[0m\n\u001b[0m\u001b[0;32m    177\u001b[0m \u001b[1;33m\u001b[0m\u001b[0m\n\u001b[0;32m    178\u001b[0m     \u001b[1;32mdef\u001b[0m \u001b[0mspecific_api_error\u001b[0m\u001b[1;33m(\u001b[0m\u001b[0mself\u001b[0m\u001b[1;33m,\u001b[0m \u001b[0mrbody\u001b[0m\u001b[1;33m,\u001b[0m \u001b[0mrcode\u001b[0m\u001b[1;33m,\u001b[0m \u001b[0mresp\u001b[0m\u001b[1;33m,\u001b[0m \u001b[0mrheaders\u001b[0m\u001b[1;33m,\u001b[0m \u001b[0merror_data\u001b[0m\u001b[1;33m)\u001b[0m\u001b[1;33m:\u001b[0m\u001b[1;33m\u001b[0m\u001b[0m\n",
      "\u001b[1;31mInvalidRequestError\u001b[0m: Request req_Asg9Vt9aE1h5nt: Insufficient funds in Stripe account. In test mode, you can add funds to your available balance (bypassing your pending balance) by creating a charge with 4000 0000 0000 0077 as the card number.   You can use the the /v1/balance endpoint to view your Stripe balance (for more details, see stripe.com/docs/api#balance)."
     ]
    }
   ],
   "source": [
    "#the owner must have a Canadian debit card or bank account\n",
    "\n",
    "stripe.Payout.create(\n",
    "  amount=23,\n",
    "  currency=\"usd\",\n",
    "  stripe_account=\"acct_1AWnpvB0VLJp2HWv\", \n",
    ")"
   ]
  },
  {
   "cell_type": "code",
   "execution_count": 60,
   "metadata": {
    "collapsed": false
   },
   "outputs": [
    {
     "data": {
      "text/plain": [
       "<Account account id=acct_1AWnpvB0VLJp2HWv at 0x41a6ee8L> JSON: {\n",
       "  \"business_logo\": null, \n",
       "  \"business_name\": null, \n",
       "  \"business_url\": null, \n",
       "  \"charges_enabled\": true, \n",
       "  \"country\": \"CA\", \n",
       "  \"debit_negative_balances\": false, \n",
       "  \"decline_charge_on\": {\n",
       "    \"avs_failure\": false, \n",
       "    \"cvc_failure\": false\n",
       "  }, \n",
       "  \"default_currency\": \"cad\", \n",
       "  \"details_submitted\": false, \n",
       "  \"display_name\": null, \n",
       "  \"email\": null, \n",
       "  \"external_accounts\": {\n",
       "    \"data\": [\n",
       "      {\n",
       "        \"account\": \"acct_1AWnpvB0VLJp2HWv\", \n",
       "        \"address_city\": null, \n",
       "        \"address_country\": null, \n",
       "        \"address_line1\": null, \n",
       "        \"address_line1_check\": null, \n",
       "        \"address_line2\": null, \n",
       "        \"address_state\": null, \n",
       "        \"address_zip\": null, \n",
       "        \"address_zip_check\": null, \n",
       "        \"available_payout_methods\": [\n",
       "          \"standard\", \n",
       "          \"instant\"\n",
       "        ], \n",
       "        \"brand\": \"Visa\", \n",
       "        \"country\": \"US\", \n",
       "        \"currency\": \"usd\", \n",
       "        \"cvc_check\": null, \n",
       "        \"default_for_currency\": true, \n",
       "        \"dynamic_last4\": null, \n",
       "        \"exp_month\": 8, \n",
       "        \"exp_year\": 2019, \n",
       "        \"fingerprint\": \"MRBtYn4NOnDVTRVx\", \n",
       "        \"funding\": \"debit\", \n",
       "        \"id\": \"card_1AWnqbB0VLJp2HWvTYa8kRsH\", \n",
       "        \"last4\": \"5556\", \n",
       "        \"metadata\": {}, \n",
       "        \"name\": null, \n",
       "        \"object\": \"card\", \n",
       "        \"tokenization_method\": null\n",
       "      }\n",
       "    ], \n",
       "    \"has_more\": false, \n",
       "    \"object\": \"list\", \n",
       "    \"total_count\": 1, \n",
       "    \"url\": \"/v1/accounts/acct_1AWnpvB0VLJp2HWv/external_accounts\"\n",
       "  }, \n",
       "  \"id\": \"acct_1AWnpvB0VLJp2HWv\", \n",
       "  \"legal_entity\": {\n",
       "    \"address\": {\n",
       "      \"city\": null, \n",
       "      \"country\": \"CA\", \n",
       "      \"line1\": null, \n",
       "      \"line2\": null, \n",
       "      \"postal_code\": null, \n",
       "      \"state\": null\n",
       "    }, \n",
       "    \"business_name\": null, \n",
       "    \"business_tax_id_provided\": false, \n",
       "    \"dob\": {\n",
       "      \"day\": 24, \n",
       "      \"month\": 6, \n",
       "      \"year\": 1994\n",
       "    }, \n",
       "    \"first_name\": \"Jenny\", \n",
       "    \"last_name\": \"Chen\", \n",
       "    \"personal_address\": {\n",
       "      \"city\": null, \n",
       "      \"country\": \"CA\", \n",
       "      \"line1\": null, \n",
       "      \"line2\": null, \n",
       "      \"postal_code\": null, \n",
       "      \"state\": null\n",
       "    }, \n",
       "    \"personal_id_number_provided\": false, \n",
       "    \"type\": null, \n",
       "    \"verification\": {\n",
       "      \"details\": null, \n",
       "      \"details_code\": null, \n",
       "      \"document\": null, \n",
       "      \"status\": \"unverified\"\n",
       "    }\n",
       "  }, \n",
       "  \"metadata\": {}, \n",
       "  \"object\": \"account\", \n",
       "  \"payout_schedule\": {\n",
       "    \"delay_days\": 6, \n",
       "    \"interval\": \"manual\"\n",
       "  }, \n",
       "  \"payout_statement_descriptor\": null, \n",
       "  \"payouts_enabled\": true, \n",
       "  \"product_description\": null, \n",
       "  \"statement_descriptor\": null, \n",
       "  \"support_email\": null, \n",
       "  \"support_phone\": null, \n",
       "  \"timezone\": \"Etc/UTC\", \n",
       "  \"tos_acceptance\": {\n",
       "    \"date\": 1497970852, \n",
       "    \"ip\": \"8.8.8.8\", \n",
       "    \"user_agent\": null\n",
       "  }, \n",
       "  \"type\": \"custom\", \n",
       "  \"verification\": {\n",
       "    \"disabled_reason\": null, \n",
       "    \"due_by\": null, \n",
       "    \"fields_needed\": [\n",
       "      \"legal_entity.type\"\n",
       "    ]\n",
       "  }\n",
       "}"
      ]
     },
     "execution_count": 60,
     "metadata": {},
     "output_type": "execute_result"
    }
   ],
   "source": [
    "jenny = stripe.Account.retrieve(\"acct_1AWnpvB0VLJp2HWv\")\n",
    "jenny.payout_schedule.interval = 'manual'\n",
    "jenny.save()"
   ]
  },
  {
   "cell_type": "code",
   "execution_count": 47,
   "metadata": {
    "collapsed": false
   },
   "outputs": [
    {
     "data": {
      "text/plain": [
       "<ListObject list at 0x41a6828L> JSON: {\n",
       "  \"data\": [\n",
       "    {\n",
       "      \"account\": \"acct_1AWnpvB0VLJp2HWv\", \n",
       "      \"address_city\": null, \n",
       "      \"address_country\": null, \n",
       "      \"address_line1\": null, \n",
       "      \"address_line1_check\": null, \n",
       "      \"address_line2\": null, \n",
       "      \"address_state\": null, \n",
       "      \"address_zip\": null, \n",
       "      \"address_zip_check\": null, \n",
       "      \"available_payout_methods\": [\n",
       "        \"standard\", \n",
       "        \"instant\"\n",
       "      ], \n",
       "      \"brand\": \"Visa\", \n",
       "      \"country\": \"US\", \n",
       "      \"currency\": \"usd\", \n",
       "      \"cvc_check\": null, \n",
       "      \"default_for_currency\": true, \n",
       "      \"dynamic_last4\": null, \n",
       "      \"exp_month\": 8, \n",
       "      \"exp_year\": 2019, \n",
       "      \"fingerprint\": \"MRBtYn4NOnDVTRVx\", \n",
       "      \"funding\": \"debit\", \n",
       "      \"id\": \"card_1AWnqbB0VLJp2HWvTYa8kRsH\", \n",
       "      \"last4\": \"5556\", \n",
       "      \"metadata\": {}, \n",
       "      \"name\": null, \n",
       "      \"object\": \"card\", \n",
       "      \"tokenization_method\": null\n",
       "    }\n",
       "  ], \n",
       "  \"has_more\": false, \n",
       "  \"object\": \"list\", \n",
       "  \"total_count\": 1, \n",
       "  \"url\": \"/v1/accounts/acct_1AWnpvB0VLJp2HWv/external_accounts\"\n",
       "}"
      ]
     },
     "execution_count": 47,
     "metadata": {},
     "output_type": "execute_result"
    }
   ],
   "source": [
    "cust1.external_accounts"
   ]
  },
  {
   "cell_type": "code",
   "execution_count": 57,
   "metadata": {
    "collapsed": false
   },
   "outputs": [
    {
     "data": {
      "text/plain": [
       "<Account account id=acct_1A1oszCb3Ehrkhxx at 0x4148288L> JSON: {\n",
       "  \"business_logo\": null, \n",
       "  \"business_name\": \"\", \n",
       "  \"business_url\": \"goparkr.com\", \n",
       "  \"charges_enabled\": true, \n",
       "  \"country\": \"CA\", \n",
       "  \"default_currency\": \"cad\", \n",
       "  \"details_submitted\": true, \n",
       "  \"display_name\": \"Parkr\", \n",
       "  \"email\": \"parkrteam@gmail.com\", \n",
       "  \"id\": \"acct_1A1oszCb3Ehrkhxx\", \n",
       "  \"object\": \"account\", \n",
       "  \"payouts_enabled\": true, \n",
       "  \"statement_descriptor\": \"PARKR\", \n",
       "  \"support_address\": {\n",
       "    \"city\": \"\", \n",
       "    \"country\": \"CA\", \n",
       "    \"line1\": null, \n",
       "    \"line2\": null, \n",
       "    \"postal_code\": \"\", \n",
       "    \"state\": \"\"\n",
       "  }, \n",
       "  \"support_email\": \"parkrteam@gmail.com\", \n",
       "  \"support_phone\": \"5197819061\", \n",
       "  \"support_url\": \"\", \n",
       "  \"timezone\": \"America/Toronto\", \n",
       "  \"type\": \"standard\"\n",
       "}"
      ]
     },
     "execution_count": 57,
     "metadata": {},
     "output_type": "execute_result"
    }
   ],
   "source": [
    "stripe.Account.retrieve(\"acct_1A1oszCb3Ehrkhxx\")"
   ]
  },
  {
   "cell_type": "code",
   "execution_count": null,
   "metadata": {
    "collapsed": true
   },
   "outputs": [],
   "source": []
  },
  {
   "cell_type": "code",
   "execution_count": 32,
   "metadata": {
    "collapsed": false
   },
   "outputs": [],
   "source": [
    "\n"
   ]
  },
  {
   "cell_type": "code",
   "execution_count": 59,
   "metadata": {
    "collapsed": false
   },
   "outputs": [
    {
     "ename": "PermissionError",
     "evalue": "Request req_AsfsXiBlaxKBWq: You cannot use this method on your own account: you may only use it on connected accounts.",
     "output_type": "error",
     "traceback": [
      "\u001b[1;31m\u001b[0m",
      "\u001b[1;31mPermissionError\u001b[0mTraceback (most recent call last)",
      "\u001b[1;32m<ipython-input-59-c6b47e5092c1>\u001b[0m in \u001b[0;36m<module>\u001b[1;34m()\u001b[0m\n\u001b[0;32m      1\u001b[0m \u001b[0mmyAcct\u001b[0m\u001b[1;33m.\u001b[0m\u001b[0mdefault_currency\u001b[0m \u001b[1;33m=\u001b[0m \u001b[1;34m\"usd\"\u001b[0m\u001b[1;33m\u001b[0m\u001b[0m\n\u001b[1;32m----> 2\u001b[1;33m \u001b[0mmyAcct\u001b[0m\u001b[1;33m.\u001b[0m\u001b[0msave\u001b[0m\u001b[1;33m(\u001b[0m\u001b[1;33m)\u001b[0m\u001b[1;33m\u001b[0m\u001b[0m\n\u001b[0m",
      "\u001b[1;32mC:\\Anaconda2\\lib\\site-packages\\stripe\\resource.pyc\u001b[0m in \u001b[0;36msave\u001b[1;34m(self, idempotency_key)\u001b[0m\n\u001b[0;32m    489\u001b[0m         \u001b[1;32mif\u001b[0m \u001b[0mupdated_params\u001b[0m\u001b[1;33m:\u001b[0m\u001b[1;33m\u001b[0m\u001b[0m\n\u001b[0;32m    490\u001b[0m             self.refresh_from(self.request('post', self.instance_url(),\n\u001b[1;32m--> 491\u001b[1;33m                                            updated_params, headers))\n\u001b[0m\u001b[0;32m    492\u001b[0m         \u001b[1;32melse\u001b[0m\u001b[1;33m:\u001b[0m\u001b[1;33m\u001b[0m\u001b[0m\n\u001b[0;32m    493\u001b[0m             \u001b[0mutil\u001b[0m\u001b[1;33m.\u001b[0m\u001b[0mlogger\u001b[0m\u001b[1;33m.\u001b[0m\u001b[0mdebug\u001b[0m\u001b[1;33m(\u001b[0m\u001b[1;34m\"Trying to save already saved object %r\"\u001b[0m\u001b[1;33m,\u001b[0m \u001b[0mself\u001b[0m\u001b[1;33m)\u001b[0m\u001b[1;33m\u001b[0m\u001b[0m\n",
      "\u001b[1;32mC:\\Anaconda2\\lib\\site-packages\\stripe\\resource.pyc\u001b[0m in \u001b[0;36mrequest\u001b[1;34m(self, method, url, params, headers)\u001b[0m\n\u001b[0;32m    227\u001b[0m             \u001b[0mkey\u001b[0m\u001b[1;33m=\u001b[0m\u001b[0mself\u001b[0m\u001b[1;33m.\u001b[0m\u001b[0mapi_key\u001b[0m\u001b[1;33m,\u001b[0m \u001b[0mapi_base\u001b[0m\u001b[1;33m=\u001b[0m\u001b[0mself\u001b[0m\u001b[1;33m.\u001b[0m\u001b[0mapi_base\u001b[0m\u001b[1;33m(\u001b[0m\u001b[1;33m)\u001b[0m\u001b[1;33m,\u001b[0m\u001b[1;33m\u001b[0m\u001b[0m\n\u001b[0;32m    228\u001b[0m             account=self.stripe_account)\n\u001b[1;32m--> 229\u001b[1;33m         \u001b[0mresponse\u001b[0m\u001b[1;33m,\u001b[0m \u001b[0mapi_key\u001b[0m \u001b[1;33m=\u001b[0m \u001b[0mrequestor\u001b[0m\u001b[1;33m.\u001b[0m\u001b[0mrequest\u001b[0m\u001b[1;33m(\u001b[0m\u001b[0mmethod\u001b[0m\u001b[1;33m,\u001b[0m \u001b[0murl\u001b[0m\u001b[1;33m,\u001b[0m \u001b[0mparams\u001b[0m\u001b[1;33m,\u001b[0m \u001b[0mheaders\u001b[0m\u001b[1;33m)\u001b[0m\u001b[1;33m\u001b[0m\u001b[0m\n\u001b[0m\u001b[0;32m    230\u001b[0m \u001b[1;33m\u001b[0m\u001b[0m\n\u001b[0;32m    231\u001b[0m         \u001b[1;32mreturn\u001b[0m \u001b[0mconvert_to_stripe_object\u001b[0m\u001b[1;33m(\u001b[0m\u001b[0mresponse\u001b[0m\u001b[1;33m,\u001b[0m \u001b[0mapi_key\u001b[0m\u001b[1;33m,\u001b[0m \u001b[0mself\u001b[0m\u001b[1;33m.\u001b[0m\u001b[0mstripe_account\u001b[0m\u001b[1;33m)\u001b[0m\u001b[1;33m\u001b[0m\u001b[0m\n",
      "\u001b[1;32mC:\\Anaconda2\\lib\\site-packages\\stripe\\api_requestor.pyc\u001b[0m in \u001b[0;36mrequest\u001b[1;34m(self, method, url, params, headers)\u001b[0m\n\u001b[0;32m    149\u001b[0m         rbody, rcode, rheaders, my_api_key = self.request_raw(\n\u001b[0;32m    150\u001b[0m             method.lower(), url, params, headers)\n\u001b[1;32m--> 151\u001b[1;33m         \u001b[0mresp\u001b[0m \u001b[1;33m=\u001b[0m \u001b[0mself\u001b[0m\u001b[1;33m.\u001b[0m\u001b[0minterpret_response\u001b[0m\u001b[1;33m(\u001b[0m\u001b[0mrbody\u001b[0m\u001b[1;33m,\u001b[0m \u001b[0mrcode\u001b[0m\u001b[1;33m,\u001b[0m \u001b[0mrheaders\u001b[0m\u001b[1;33m)\u001b[0m\u001b[1;33m\u001b[0m\u001b[0m\n\u001b[0m\u001b[0;32m    152\u001b[0m         \u001b[1;32mreturn\u001b[0m \u001b[0mresp\u001b[0m\u001b[1;33m,\u001b[0m \u001b[0mmy_api_key\u001b[0m\u001b[1;33m\u001b[0m\u001b[0m\n\u001b[0;32m    153\u001b[0m \u001b[1;33m\u001b[0m\u001b[0m\n",
      "\u001b[1;32mC:\\Anaconda2\\lib\\site-packages\\stripe\\api_requestor.pyc\u001b[0m in \u001b[0;36minterpret_response\u001b[1;34m(self, rbody, rcode, rheaders)\u001b[0m\n\u001b[0;32m    354\u001b[0m                 rbody, rcode, rheaders)\n\u001b[0;32m    355\u001b[0m         \u001b[1;32mif\u001b[0m \u001b[1;32mnot\u001b[0m \u001b[1;33m(\u001b[0m\u001b[1;36m200\u001b[0m \u001b[1;33m<=\u001b[0m \u001b[0mrcode\u001b[0m \u001b[1;33m<\u001b[0m \u001b[1;36m300\u001b[0m\u001b[1;33m)\u001b[0m\u001b[1;33m:\u001b[0m\u001b[1;33m\u001b[0m\u001b[0m\n\u001b[1;32m--> 356\u001b[1;33m             \u001b[0mself\u001b[0m\u001b[1;33m.\u001b[0m\u001b[0mhandle_error_response\u001b[0m\u001b[1;33m(\u001b[0m\u001b[0mrbody\u001b[0m\u001b[1;33m,\u001b[0m \u001b[0mrcode\u001b[0m\u001b[1;33m,\u001b[0m \u001b[0mresp\u001b[0m\u001b[1;33m,\u001b[0m \u001b[0mrheaders\u001b[0m\u001b[1;33m)\u001b[0m\u001b[1;33m\u001b[0m\u001b[0m\n\u001b[0m\u001b[0;32m    357\u001b[0m         \u001b[1;32mreturn\u001b[0m \u001b[0mresp\u001b[0m\u001b[1;33m\u001b[0m\u001b[0m\n\u001b[0;32m    358\u001b[0m \u001b[1;33m\u001b[0m\u001b[0m\n",
      "\u001b[1;32mC:\\Anaconda2\\lib\\site-packages\\stripe\\api_requestor.pyc\u001b[0m in \u001b[0;36mhandle_error_response\u001b[1;34m(self, rbody, rcode, resp, rheaders)\u001b[0m\n\u001b[0;32m    174\u001b[0m                 rbody, rcode, resp, rheaders, error_data)\n\u001b[0;32m    175\u001b[0m \u001b[1;33m\u001b[0m\u001b[0m\n\u001b[1;32m--> 176\u001b[1;33m         \u001b[1;32mraise\u001b[0m \u001b[0merr\u001b[0m\u001b[1;33m\u001b[0m\u001b[0m\n\u001b[0m\u001b[0;32m    177\u001b[0m \u001b[1;33m\u001b[0m\u001b[0m\n\u001b[0;32m    178\u001b[0m     \u001b[1;32mdef\u001b[0m \u001b[0mspecific_api_error\u001b[0m\u001b[1;33m(\u001b[0m\u001b[0mself\u001b[0m\u001b[1;33m,\u001b[0m \u001b[0mrbody\u001b[0m\u001b[1;33m,\u001b[0m \u001b[0mrcode\u001b[0m\u001b[1;33m,\u001b[0m \u001b[0mresp\u001b[0m\u001b[1;33m,\u001b[0m \u001b[0mrheaders\u001b[0m\u001b[1;33m,\u001b[0m \u001b[0merror_data\u001b[0m\u001b[1;33m)\u001b[0m\u001b[1;33m:\u001b[0m\u001b[1;33m\u001b[0m\u001b[0m\n",
      "\u001b[1;31mPermissionError\u001b[0m: Request req_AsfsXiBlaxKBWq: You cannot use this method on your own account: you may only use it on connected accounts."
     ]
    }
   ],
   "source": []
  },
  {
   "cell_type": "code",
   "execution_count": 61,
   "metadata": {
    "collapsed": false
   },
   "outputs": [
    {
     "ename": "InvalidRequestError",
     "evalue": "Request req_AsfuU9Q0hWqUL0: This card doesn't appear to be a debit card.",
     "output_type": "error",
     "traceback": [
      "\u001b[1;31m\u001b[0m",
      "\u001b[1;31mInvalidRequestError\u001b[0mTraceback (most recent call last)",
      "\u001b[1;32m<ipython-input-61-2aae3220e0f1>\u001b[0m in \u001b[0;36m<module>\u001b[1;34m()\u001b[0m\n\u001b[1;32m----> 1\u001b[1;33m \u001b[0mjenny\u001b[0m\u001b[1;33m.\u001b[0m\u001b[0mexternal_accounts\u001b[0m\u001b[1;33m.\u001b[0m\u001b[0mcreate\u001b[0m\u001b[1;33m(\u001b[0m\u001b[0mexternal_account\u001b[0m\u001b[1;33m=\u001b[0m\u001b[1;34m\"tok_ca\"\u001b[0m\u001b[1;33m)\u001b[0m\u001b[1;33m\u001b[0m\u001b[0m\n\u001b[0m",
      "\u001b[1;32mC:\\Anaconda2\\lib\\site-packages\\stripe\\resource.pyc\u001b[0m in \u001b[0;36mcreate\u001b[1;34m(self, idempotency_key, **params)\u001b[0m\n\u001b[0;32m    397\u001b[0m     \u001b[1;32mdef\u001b[0m \u001b[0mcreate\u001b[0m\u001b[1;33m(\u001b[0m\u001b[0mself\u001b[0m\u001b[1;33m,\u001b[0m \u001b[0midempotency_key\u001b[0m\u001b[1;33m=\u001b[0m\u001b[0mNone\u001b[0m\u001b[1;33m,\u001b[0m \u001b[1;33m**\u001b[0m\u001b[0mparams\u001b[0m\u001b[1;33m)\u001b[0m\u001b[1;33m:\u001b[0m\u001b[1;33m\u001b[0m\u001b[0m\n\u001b[0;32m    398\u001b[0m         \u001b[0mheaders\u001b[0m \u001b[1;33m=\u001b[0m \u001b[0mpopulate_headers\u001b[0m\u001b[1;33m(\u001b[0m\u001b[0midempotency_key\u001b[0m\u001b[1;33m)\u001b[0m\u001b[1;33m\u001b[0m\u001b[0m\n\u001b[1;32m--> 399\u001b[1;33m         \u001b[1;32mreturn\u001b[0m \u001b[0mself\u001b[0m\u001b[1;33m.\u001b[0m\u001b[0mrequest\u001b[0m\u001b[1;33m(\u001b[0m\u001b[1;34m'post'\u001b[0m\u001b[1;33m,\u001b[0m \u001b[0mself\u001b[0m\u001b[1;33m[\u001b[0m\u001b[1;34m'url'\u001b[0m\u001b[1;33m]\u001b[0m\u001b[1;33m,\u001b[0m \u001b[0mparams\u001b[0m\u001b[1;33m,\u001b[0m \u001b[0mheaders\u001b[0m\u001b[1;33m)\u001b[0m\u001b[1;33m\u001b[0m\u001b[0m\n\u001b[0m\u001b[0;32m    400\u001b[0m \u001b[1;33m\u001b[0m\u001b[0m\n\u001b[0;32m    401\u001b[0m     \u001b[1;32mdef\u001b[0m \u001b[0mretrieve\u001b[0m\u001b[1;33m(\u001b[0m\u001b[0mself\u001b[0m\u001b[1;33m,\u001b[0m \u001b[0mid\u001b[0m\u001b[1;33m,\u001b[0m \u001b[1;33m**\u001b[0m\u001b[0mparams\u001b[0m\u001b[1;33m)\u001b[0m\u001b[1;33m:\u001b[0m\u001b[1;33m\u001b[0m\u001b[0m\n",
      "\u001b[1;32mC:\\Anaconda2\\lib\\site-packages\\stripe\\resource.pyc\u001b[0m in \u001b[0;36mrequest\u001b[1;34m(self, method, url, params, headers)\u001b[0m\n\u001b[0;32m    227\u001b[0m             \u001b[0mkey\u001b[0m\u001b[1;33m=\u001b[0m\u001b[0mself\u001b[0m\u001b[1;33m.\u001b[0m\u001b[0mapi_key\u001b[0m\u001b[1;33m,\u001b[0m \u001b[0mapi_base\u001b[0m\u001b[1;33m=\u001b[0m\u001b[0mself\u001b[0m\u001b[1;33m.\u001b[0m\u001b[0mapi_base\u001b[0m\u001b[1;33m(\u001b[0m\u001b[1;33m)\u001b[0m\u001b[1;33m,\u001b[0m\u001b[1;33m\u001b[0m\u001b[0m\n\u001b[0;32m    228\u001b[0m             account=self.stripe_account)\n\u001b[1;32m--> 229\u001b[1;33m         \u001b[0mresponse\u001b[0m\u001b[1;33m,\u001b[0m \u001b[0mapi_key\u001b[0m \u001b[1;33m=\u001b[0m \u001b[0mrequestor\u001b[0m\u001b[1;33m.\u001b[0m\u001b[0mrequest\u001b[0m\u001b[1;33m(\u001b[0m\u001b[0mmethod\u001b[0m\u001b[1;33m,\u001b[0m \u001b[0murl\u001b[0m\u001b[1;33m,\u001b[0m \u001b[0mparams\u001b[0m\u001b[1;33m,\u001b[0m \u001b[0mheaders\u001b[0m\u001b[1;33m)\u001b[0m\u001b[1;33m\u001b[0m\u001b[0m\n\u001b[0m\u001b[0;32m    230\u001b[0m \u001b[1;33m\u001b[0m\u001b[0m\n\u001b[0;32m    231\u001b[0m         \u001b[1;32mreturn\u001b[0m \u001b[0mconvert_to_stripe_object\u001b[0m\u001b[1;33m(\u001b[0m\u001b[0mresponse\u001b[0m\u001b[1;33m,\u001b[0m \u001b[0mapi_key\u001b[0m\u001b[1;33m,\u001b[0m \u001b[0mself\u001b[0m\u001b[1;33m.\u001b[0m\u001b[0mstripe_account\u001b[0m\u001b[1;33m)\u001b[0m\u001b[1;33m\u001b[0m\u001b[0m\n",
      "\u001b[1;32mC:\\Anaconda2\\lib\\site-packages\\stripe\\api_requestor.pyc\u001b[0m in \u001b[0;36mrequest\u001b[1;34m(self, method, url, params, headers)\u001b[0m\n\u001b[0;32m    149\u001b[0m         rbody, rcode, rheaders, my_api_key = self.request_raw(\n\u001b[0;32m    150\u001b[0m             method.lower(), url, params, headers)\n\u001b[1;32m--> 151\u001b[1;33m         \u001b[0mresp\u001b[0m \u001b[1;33m=\u001b[0m \u001b[0mself\u001b[0m\u001b[1;33m.\u001b[0m\u001b[0minterpret_response\u001b[0m\u001b[1;33m(\u001b[0m\u001b[0mrbody\u001b[0m\u001b[1;33m,\u001b[0m \u001b[0mrcode\u001b[0m\u001b[1;33m,\u001b[0m \u001b[0mrheaders\u001b[0m\u001b[1;33m)\u001b[0m\u001b[1;33m\u001b[0m\u001b[0m\n\u001b[0m\u001b[0;32m    152\u001b[0m         \u001b[1;32mreturn\u001b[0m \u001b[0mresp\u001b[0m\u001b[1;33m,\u001b[0m \u001b[0mmy_api_key\u001b[0m\u001b[1;33m\u001b[0m\u001b[0m\n\u001b[0;32m    153\u001b[0m \u001b[1;33m\u001b[0m\u001b[0m\n",
      "\u001b[1;32mC:\\Anaconda2\\lib\\site-packages\\stripe\\api_requestor.pyc\u001b[0m in \u001b[0;36minterpret_response\u001b[1;34m(self, rbody, rcode, rheaders)\u001b[0m\n\u001b[0;32m    354\u001b[0m                 rbody, rcode, rheaders)\n\u001b[0;32m    355\u001b[0m         \u001b[1;32mif\u001b[0m \u001b[1;32mnot\u001b[0m \u001b[1;33m(\u001b[0m\u001b[1;36m200\u001b[0m \u001b[1;33m<=\u001b[0m \u001b[0mrcode\u001b[0m \u001b[1;33m<\u001b[0m \u001b[1;36m300\u001b[0m\u001b[1;33m)\u001b[0m\u001b[1;33m:\u001b[0m\u001b[1;33m\u001b[0m\u001b[0m\n\u001b[1;32m--> 356\u001b[1;33m             \u001b[0mself\u001b[0m\u001b[1;33m.\u001b[0m\u001b[0mhandle_error_response\u001b[0m\u001b[1;33m(\u001b[0m\u001b[0mrbody\u001b[0m\u001b[1;33m,\u001b[0m \u001b[0mrcode\u001b[0m\u001b[1;33m,\u001b[0m \u001b[0mresp\u001b[0m\u001b[1;33m,\u001b[0m \u001b[0mrheaders\u001b[0m\u001b[1;33m)\u001b[0m\u001b[1;33m\u001b[0m\u001b[0m\n\u001b[0m\u001b[0;32m    357\u001b[0m         \u001b[1;32mreturn\u001b[0m \u001b[0mresp\u001b[0m\u001b[1;33m\u001b[0m\u001b[0m\n\u001b[0;32m    358\u001b[0m \u001b[1;33m\u001b[0m\u001b[0m\n",
      "\u001b[1;32mC:\\Anaconda2\\lib\\site-packages\\stripe\\api_requestor.pyc\u001b[0m in \u001b[0;36mhandle_error_response\u001b[1;34m(self, rbody, rcode, resp, rheaders)\u001b[0m\n\u001b[0;32m    174\u001b[0m                 rbody, rcode, resp, rheaders, error_data)\n\u001b[0;32m    175\u001b[0m \u001b[1;33m\u001b[0m\u001b[0m\n\u001b[1;32m--> 176\u001b[1;33m         \u001b[1;32mraise\u001b[0m \u001b[0merr\u001b[0m\u001b[1;33m\u001b[0m\u001b[0m\n\u001b[0m\u001b[0;32m    177\u001b[0m \u001b[1;33m\u001b[0m\u001b[0m\n\u001b[0;32m    178\u001b[0m     \u001b[1;32mdef\u001b[0m \u001b[0mspecific_api_error\u001b[0m\u001b[1;33m(\u001b[0m\u001b[0mself\u001b[0m\u001b[1;33m,\u001b[0m \u001b[0mrbody\u001b[0m\u001b[1;33m,\u001b[0m \u001b[0mrcode\u001b[0m\u001b[1;33m,\u001b[0m \u001b[0mresp\u001b[0m\u001b[1;33m,\u001b[0m \u001b[0mrheaders\u001b[0m\u001b[1;33m,\u001b[0m \u001b[0merror_data\u001b[0m\u001b[1;33m)\u001b[0m\u001b[1;33m:\u001b[0m\u001b[1;33m\u001b[0m\u001b[0m\n",
      "\u001b[1;31mInvalidRequestError\u001b[0m: Request req_AsfuU9Q0hWqUL0: This card doesn't appear to be a debit card."
     ]
    }
   ],
   "source": [
    "jenny.external_accounts.create(external_account=\"tok_ca\")\n"
   ]
  },
  {
   "cell_type": "code",
   "execution_count": null,
   "metadata": {
    "collapsed": true
   },
   "outputs": [],
   "source": []
  }
 ],
 "metadata": {
  "anaconda-cloud": {},
  "kernelspec": {
   "display_name": "Python [Root]",
   "language": "python",
   "name": "Python [Root]"
  },
  "language_info": {
   "codemirror_mode": {
    "name": "ipython",
    "version": 2
   },
   "file_extension": ".py",
   "mimetype": "text/x-python",
   "name": "python",
   "nbconvert_exporter": "python",
   "pygments_lexer": "ipython2",
   "version": "2.7.12"
  }
 },
 "nbformat": 4,
 "nbformat_minor": 0
}
